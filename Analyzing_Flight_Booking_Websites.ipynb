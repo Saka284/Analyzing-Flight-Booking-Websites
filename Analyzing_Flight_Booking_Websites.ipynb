{
  "nbformat": 4,
  "nbformat_minor": 0,
  "metadata": {
    "colab": {
      "provenance": [],
      "collapsed_sections": [
        "bXWb1GL46lQq",
        "O0wsAreR488h",
        "W4F0qKxUUSbp",
        "2rGKyjCnMGpl",
        "n5M3kenuMzth",
        "7UOzkfVeCAGR"
      ],
      "toc_visible": true
    },
    "kernelspec": {
      "name": "python3",
      "display_name": "Python 3"
    },
    "language_info": {
      "name": "python"
    }
  },
  "cells": [
    {
      "cell_type": "markdown",
      "source": [
        "# Analyzing Flight Booking Websites\n",
        "Dataset:\n",
        "- British Airways: https://www.kaggle.com/datasets/minnikeswarrao/british-airlines\n"
      ],
      "metadata": {
        "id": "WFZbUF--xC_R"
      }
    },
    {
      "cell_type": "code",
      "source": [
        "#import library\n",
        "import pandas as pd\n",
        "import numpy as np\n",
        "import matplotlib.pyplot as plt"
      ],
      "metadata": {
        "id": "6Qfj56XAxgfB"
      },
      "execution_count": null,
      "outputs": []
    },
    {
      "cell_type": "code",
      "execution_count": null,
      "metadata": {
        "id": "vLWGlr1EwrgA",
        "colab": {
          "base_uri": "https://localhost:8080/",
          "height": 590
        },
        "outputId": "9bbac5e9-e595-4bc7-ad1c-5fe7bcd7409c"
      },
      "outputs": [
        {
          "output_type": "execute_result",
          "data": {
            "text/plain": [
              "             status           aircraft   travel_type     travel_class  \\\n",
              "0  ✅ Trip Verified                A320  Solo Leisure   Business Class   \n",
              "1  ✅ Trip Verified   Boeing 787 / A320  Solo Leisure    Economy Class   \n",
              "2  ✅ Trip Verified                 NaN  Solo Leisure    Economy Class   \n",
              "3  ✅ Trip Verified                 NaN  Solo Leisure  Premium Economy   \n",
              "4  ✅ Trip Verified                 NaN  Solo Leisure    Economy Class   \n",
              "\n",
              "                                       route           date  seating_comfort  \\\n",
              "0                           London to Lisbon  November 2022              3.0   \n",
              "1  Montreal to Edinburgh via London Heathrow   January 2022              4.0   \n",
              "2               Miami to Budapest via London  November 2022              2.0   \n",
              "3       Amman Jordan to London UK (Heathrow)  November 2022              3.0   \n",
              "4       Dusseldorf to London via Los Angeles    August 2022              1.0   \n",
              "\n",
              "   staff_service  food_quality  entertainment  wifi  ground_service  \\\n",
              "0            4.0           4.0            NaN   NaN             3.0   \n",
              "1            4.0           4.0            4.0   NaN             4.0   \n",
              "2            3.0           3.0            4.0   NaN             1.0   \n",
              "3            2.0           1.0            NaN   NaN             4.0   \n",
              "4            1.0           1.0            1.0   1.0             1.0   \n",
              "\n",
              "   value_for_money recommended  overall_rating  \\\n",
              "0                3         yes             7.0   \n",
              "1                4         yes             7.0   \n",
              "2                1          no             1.0   \n",
              "3                2          no             4.0   \n",
              "4                1          no             1.0   \n",
              "\n",
              "                                              review  \n",
              "0    I virtually gave up on British Airways about...  \n",
              "1    I was pleasantly surprised that the airline ...  \n",
              "2    British Airways is late, their website is at...  \n",
              "3   Flew from Amman to London on Nov. 14 2022. No...  \n",
              "4   This is the worst experience I have ever had ...  "
            ],
            "text/html": [
              "\n",
              "  <div id=\"df-691208ef-7eba-4a73-8cd4-d934e51c8a37\" class=\"colab-df-container\">\n",
              "    <div>\n",
              "<style scoped>\n",
              "    .dataframe tbody tr th:only-of-type {\n",
              "        vertical-align: middle;\n",
              "    }\n",
              "\n",
              "    .dataframe tbody tr th {\n",
              "        vertical-align: top;\n",
              "    }\n",
              "\n",
              "    .dataframe thead th {\n",
              "        text-align: right;\n",
              "    }\n",
              "</style>\n",
              "<table border=\"1\" class=\"dataframe\">\n",
              "  <thead>\n",
              "    <tr style=\"text-align: right;\">\n",
              "      <th></th>\n",
              "      <th>status</th>\n",
              "      <th>aircraft</th>\n",
              "      <th>travel_type</th>\n",
              "      <th>travel_class</th>\n",
              "      <th>route</th>\n",
              "      <th>date</th>\n",
              "      <th>seating_comfort</th>\n",
              "      <th>staff_service</th>\n",
              "      <th>food_quality</th>\n",
              "      <th>entertainment</th>\n",
              "      <th>wifi</th>\n",
              "      <th>ground_service</th>\n",
              "      <th>value_for_money</th>\n",
              "      <th>recommended</th>\n",
              "      <th>overall_rating</th>\n",
              "      <th>review</th>\n",
              "    </tr>\n",
              "  </thead>\n",
              "  <tbody>\n",
              "    <tr>\n",
              "      <th>0</th>\n",
              "      <td>✅ Trip Verified</td>\n",
              "      <td>A320</td>\n",
              "      <td>Solo Leisure</td>\n",
              "      <td>Business Class</td>\n",
              "      <td>London to Lisbon</td>\n",
              "      <td>November 2022</td>\n",
              "      <td>3.0</td>\n",
              "      <td>4.0</td>\n",
              "      <td>4.0</td>\n",
              "      <td>NaN</td>\n",
              "      <td>NaN</td>\n",
              "      <td>3.0</td>\n",
              "      <td>3</td>\n",
              "      <td>yes</td>\n",
              "      <td>7.0</td>\n",
              "      <td>I virtually gave up on British Airways about...</td>\n",
              "    </tr>\n",
              "    <tr>\n",
              "      <th>1</th>\n",
              "      <td>✅ Trip Verified</td>\n",
              "      <td>Boeing 787 / A320</td>\n",
              "      <td>Solo Leisure</td>\n",
              "      <td>Economy Class</td>\n",
              "      <td>Montreal to Edinburgh via London Heathrow</td>\n",
              "      <td>January 2022</td>\n",
              "      <td>4.0</td>\n",
              "      <td>4.0</td>\n",
              "      <td>4.0</td>\n",
              "      <td>4.0</td>\n",
              "      <td>NaN</td>\n",
              "      <td>4.0</td>\n",
              "      <td>4</td>\n",
              "      <td>yes</td>\n",
              "      <td>7.0</td>\n",
              "      <td>I was pleasantly surprised that the airline ...</td>\n",
              "    </tr>\n",
              "    <tr>\n",
              "      <th>2</th>\n",
              "      <td>✅ Trip Verified</td>\n",
              "      <td>NaN</td>\n",
              "      <td>Solo Leisure</td>\n",
              "      <td>Economy Class</td>\n",
              "      <td>Miami to Budapest via London</td>\n",
              "      <td>November 2022</td>\n",
              "      <td>2.0</td>\n",
              "      <td>3.0</td>\n",
              "      <td>3.0</td>\n",
              "      <td>4.0</td>\n",
              "      <td>NaN</td>\n",
              "      <td>1.0</td>\n",
              "      <td>1</td>\n",
              "      <td>no</td>\n",
              "      <td>1.0</td>\n",
              "      <td>British Airways is late, their website is at...</td>\n",
              "    </tr>\n",
              "    <tr>\n",
              "      <th>3</th>\n",
              "      <td>✅ Trip Verified</td>\n",
              "      <td>NaN</td>\n",
              "      <td>Solo Leisure</td>\n",
              "      <td>Premium Economy</td>\n",
              "      <td>Amman Jordan to London UK (Heathrow)</td>\n",
              "      <td>November 2022</td>\n",
              "      <td>3.0</td>\n",
              "      <td>2.0</td>\n",
              "      <td>1.0</td>\n",
              "      <td>NaN</td>\n",
              "      <td>NaN</td>\n",
              "      <td>4.0</td>\n",
              "      <td>2</td>\n",
              "      <td>no</td>\n",
              "      <td>4.0</td>\n",
              "      <td>Flew from Amman to London on Nov. 14 2022. No...</td>\n",
              "    </tr>\n",
              "    <tr>\n",
              "      <th>4</th>\n",
              "      <td>✅ Trip Verified</td>\n",
              "      <td>NaN</td>\n",
              "      <td>Solo Leisure</td>\n",
              "      <td>Economy Class</td>\n",
              "      <td>Dusseldorf to London via Los Angeles</td>\n",
              "      <td>August 2022</td>\n",
              "      <td>1.0</td>\n",
              "      <td>1.0</td>\n",
              "      <td>1.0</td>\n",
              "      <td>1.0</td>\n",
              "      <td>1.0</td>\n",
              "      <td>1.0</td>\n",
              "      <td>1</td>\n",
              "      <td>no</td>\n",
              "      <td>1.0</td>\n",
              "      <td>This is the worst experience I have ever had ...</td>\n",
              "    </tr>\n",
              "  </tbody>\n",
              "</table>\n",
              "</div>\n",
              "    <div class=\"colab-df-buttons\">\n",
              "\n",
              "  <div class=\"colab-df-container\">\n",
              "    <button class=\"colab-df-convert\" onclick=\"convertToInteractive('df-691208ef-7eba-4a73-8cd4-d934e51c8a37')\"\n",
              "            title=\"Convert this dataframe to an interactive table.\"\n",
              "            style=\"display:none;\">\n",
              "\n",
              "  <svg xmlns=\"http://www.w3.org/2000/svg\" height=\"24px\" viewBox=\"0 -960 960 960\">\n",
              "    <path d=\"M120-120v-720h720v720H120Zm60-500h600v-160H180v160Zm220 220h160v-160H400v160Zm0 220h160v-160H400v160ZM180-400h160v-160H180v160Zm440 0h160v-160H620v160ZM180-180h160v-160H180v160Zm440 0h160v-160H620v160Z\"/>\n",
              "  </svg>\n",
              "    </button>\n",
              "\n",
              "  <style>\n",
              "    .colab-df-container {\n",
              "      display:flex;\n",
              "      gap: 12px;\n",
              "    }\n",
              "\n",
              "    .colab-df-convert {\n",
              "      background-color: #E8F0FE;\n",
              "      border: none;\n",
              "      border-radius: 50%;\n",
              "      cursor: pointer;\n",
              "      display: none;\n",
              "      fill: #1967D2;\n",
              "      height: 32px;\n",
              "      padding: 0 0 0 0;\n",
              "      width: 32px;\n",
              "    }\n",
              "\n",
              "    .colab-df-convert:hover {\n",
              "      background-color: #E2EBFA;\n",
              "      box-shadow: 0px 1px 2px rgba(60, 64, 67, 0.3), 0px 1px 3px 1px rgba(60, 64, 67, 0.15);\n",
              "      fill: #174EA6;\n",
              "    }\n",
              "\n",
              "    .colab-df-buttons div {\n",
              "      margin-bottom: 4px;\n",
              "    }\n",
              "\n",
              "    [theme=dark] .colab-df-convert {\n",
              "      background-color: #3B4455;\n",
              "      fill: #D2E3FC;\n",
              "    }\n",
              "\n",
              "    [theme=dark] .colab-df-convert:hover {\n",
              "      background-color: #434B5C;\n",
              "      box-shadow: 0px 1px 3px 1px rgba(0, 0, 0, 0.15);\n",
              "      filter: drop-shadow(0px 1px 2px rgba(0, 0, 0, 0.3));\n",
              "      fill: #FFFFFF;\n",
              "    }\n",
              "  </style>\n",
              "\n",
              "    <script>\n",
              "      const buttonEl =\n",
              "        document.querySelector('#df-691208ef-7eba-4a73-8cd4-d934e51c8a37 button.colab-df-convert');\n",
              "      buttonEl.style.display =\n",
              "        google.colab.kernel.accessAllowed ? 'block' : 'none';\n",
              "\n",
              "      async function convertToInteractive(key) {\n",
              "        const element = document.querySelector('#df-691208ef-7eba-4a73-8cd4-d934e51c8a37');\n",
              "        const dataTable =\n",
              "          await google.colab.kernel.invokeFunction('convertToInteractive',\n",
              "                                                    [key], {});\n",
              "        if (!dataTable) return;\n",
              "\n",
              "        const docLinkHtml = 'Like what you see? Visit the ' +\n",
              "          '<a target=\"_blank\" href=https://colab.research.google.com/notebooks/data_table.ipynb>data table notebook</a>'\n",
              "          + ' to learn more about interactive tables.';\n",
              "        element.innerHTML = '';\n",
              "        dataTable['output_type'] = 'display_data';\n",
              "        await google.colab.output.renderOutput(dataTable, element);\n",
              "        const docLink = document.createElement('div');\n",
              "        docLink.innerHTML = docLinkHtml;\n",
              "        element.appendChild(docLink);\n",
              "      }\n",
              "    </script>\n",
              "  </div>\n",
              "\n",
              "\n",
              "<div id=\"df-2cfadf23-1ac8-454e-94a5-3c6afb4bb08c\">\n",
              "  <button class=\"colab-df-quickchart\" onclick=\"quickchart('df-2cfadf23-1ac8-454e-94a5-3c6afb4bb08c')\"\n",
              "            title=\"Suggest charts\"\n",
              "            style=\"display:none;\">\n",
              "\n",
              "<svg xmlns=\"http://www.w3.org/2000/svg\" height=\"24px\"viewBox=\"0 0 24 24\"\n",
              "     width=\"24px\">\n",
              "    <g>\n",
              "        <path d=\"M19 3H5c-1.1 0-2 .9-2 2v14c0 1.1.9 2 2 2h14c1.1 0 2-.9 2-2V5c0-1.1-.9-2-2-2zM9 17H7v-7h2v7zm4 0h-2V7h2v10zm4 0h-2v-4h2v4z\"/>\n",
              "    </g>\n",
              "</svg>\n",
              "  </button>\n",
              "\n",
              "<style>\n",
              "  .colab-df-quickchart {\n",
              "      --bg-color: #E8F0FE;\n",
              "      --fill-color: #1967D2;\n",
              "      --hover-bg-color: #E2EBFA;\n",
              "      --hover-fill-color: #174EA6;\n",
              "      --disabled-fill-color: #AAA;\n",
              "      --disabled-bg-color: #DDD;\n",
              "  }\n",
              "\n",
              "  [theme=dark] .colab-df-quickchart {\n",
              "      --bg-color: #3B4455;\n",
              "      --fill-color: #D2E3FC;\n",
              "      --hover-bg-color: #434B5C;\n",
              "      --hover-fill-color: #FFFFFF;\n",
              "      --disabled-bg-color: #3B4455;\n",
              "      --disabled-fill-color: #666;\n",
              "  }\n",
              "\n",
              "  .colab-df-quickchart {\n",
              "    background-color: var(--bg-color);\n",
              "    border: none;\n",
              "    border-radius: 50%;\n",
              "    cursor: pointer;\n",
              "    display: none;\n",
              "    fill: var(--fill-color);\n",
              "    height: 32px;\n",
              "    padding: 0;\n",
              "    width: 32px;\n",
              "  }\n",
              "\n",
              "  .colab-df-quickchart:hover {\n",
              "    background-color: var(--hover-bg-color);\n",
              "    box-shadow: 0 1px 2px rgba(60, 64, 67, 0.3), 0 1px 3px 1px rgba(60, 64, 67, 0.15);\n",
              "    fill: var(--button-hover-fill-color);\n",
              "  }\n",
              "\n",
              "  .colab-df-quickchart-complete:disabled,\n",
              "  .colab-df-quickchart-complete:disabled:hover {\n",
              "    background-color: var(--disabled-bg-color);\n",
              "    fill: var(--disabled-fill-color);\n",
              "    box-shadow: none;\n",
              "  }\n",
              "\n",
              "  .colab-df-spinner {\n",
              "    border: 2px solid var(--fill-color);\n",
              "    border-color: transparent;\n",
              "    border-bottom-color: var(--fill-color);\n",
              "    animation:\n",
              "      spin 1s steps(1) infinite;\n",
              "  }\n",
              "\n",
              "  @keyframes spin {\n",
              "    0% {\n",
              "      border-color: transparent;\n",
              "      border-bottom-color: var(--fill-color);\n",
              "      border-left-color: var(--fill-color);\n",
              "    }\n",
              "    20% {\n",
              "      border-color: transparent;\n",
              "      border-left-color: var(--fill-color);\n",
              "      border-top-color: var(--fill-color);\n",
              "    }\n",
              "    30% {\n",
              "      border-color: transparent;\n",
              "      border-left-color: var(--fill-color);\n",
              "      border-top-color: var(--fill-color);\n",
              "      border-right-color: var(--fill-color);\n",
              "    }\n",
              "    40% {\n",
              "      border-color: transparent;\n",
              "      border-right-color: var(--fill-color);\n",
              "      border-top-color: var(--fill-color);\n",
              "    }\n",
              "    60% {\n",
              "      border-color: transparent;\n",
              "      border-right-color: var(--fill-color);\n",
              "    }\n",
              "    80% {\n",
              "      border-color: transparent;\n",
              "      border-right-color: var(--fill-color);\n",
              "      border-bottom-color: var(--fill-color);\n",
              "    }\n",
              "    90% {\n",
              "      border-color: transparent;\n",
              "      border-bottom-color: var(--fill-color);\n",
              "    }\n",
              "  }\n",
              "</style>\n",
              "\n",
              "  <script>\n",
              "    async function quickchart(key) {\n",
              "      const quickchartButtonEl =\n",
              "        document.querySelector('#' + key + ' button');\n",
              "      quickchartButtonEl.disabled = true;  // To prevent multiple clicks.\n",
              "      quickchartButtonEl.classList.add('colab-df-spinner');\n",
              "      try {\n",
              "        const charts = await google.colab.kernel.invokeFunction(\n",
              "            'suggestCharts', [key], {});\n",
              "      } catch (error) {\n",
              "        console.error('Error during call to suggestCharts:', error);\n",
              "      }\n",
              "      quickchartButtonEl.classList.remove('colab-df-spinner');\n",
              "      quickchartButtonEl.classList.add('colab-df-quickchart-complete');\n",
              "    }\n",
              "    (() => {\n",
              "      let quickchartButtonEl =\n",
              "        document.querySelector('#df-2cfadf23-1ac8-454e-94a5-3c6afb4bb08c button');\n",
              "      quickchartButtonEl.style.display =\n",
              "        google.colab.kernel.accessAllowed ? 'block' : 'none';\n",
              "    })();\n",
              "  </script>\n",
              "</div>\n",
              "\n",
              "    </div>\n",
              "  </div>\n"
            ],
            "application/vnd.google.colaboratory.intrinsic+json": {
              "type": "dataframe",
              "variable_name": "er",
              "summary": "{\n  \"name\": \"er\",\n  \"rows\": 3424,\n  \"fields\": [\n    {\n      \"column\": \"status\",\n      \"properties\": {\n        \"dtype\": \"category\",\n        \"num_unique_values\": 6,\n        \"samples\": [\n          \"\\u2705 Trip Verified \",\n          \"Not Verified \",\n          \"We travelled economy from Manchester to Toronto via Heathrow The flight from Manchester to Heathrow and return was very good. The seats had plenty of room and it was easy to fit laptop size briefcases under the seat in front and still have room to stretch your legs. The service from the cabin crew was excellent. The leg from Heathrow to Toronto was not as comfortable but it was acceptable. The seats appeared narrower and my case only just fit under the seat leaving little room to stretch my legs. Whilst the cabin crew forgot requests for drinks they apologised and were very friendly and helpful in other aspects. Unfortunately BA were let down by the attendants on the return leg from Toronto to Heathrow. Whilst the aircraft appeared newer and more comfortable I have never experienced such surly behaviour from the cabin crew. We had seen attendants in the opposite aisle offering passengers water from trays they were carrying but the attendants down our aisle did not do this. The lady in the seat next to me asked for a glass of water before take off. The steward was quite off hand and said he would bring her one in a minute. He did not do this and when she asked again she was told in a very rude manner that take off procedures took priority otherwise non of us were going anywhere. Even after take off she had to ask again. When they served dinner my daughter did not want a meal but she asked if she could just have the bottle of water that was served with it. The steward said that if she did not want the meal she could not have the water but that he would bring her some in a glass later. This had not appeared by the time I had finished eating my meal so I gave her the bottle from mine (My daughter has a medical condition that requires her to drink water frequently throughout the day) Shortly before landing we were served a muffin and a drink. The passengers on the other aisle were served about 15 mins earlier and they were handed paper napkins and cutlery whilst when we were served we were simply handed the muffin wrapped in cellophane but no plate or napkin to catch the crumbs. I asked for a glass of orange and a tea (as I had not drunk anything on the 6 hour flight). The attendant scowled at me and then gave me half a glass of orange and half a cup of tea (which was cold\"\n        ],\n        \"semantic_type\": \"\",\n        \"description\": \"\"\n      }\n    },\n    {\n      \"column\": \"aircraft\",\n      \"properties\": {\n        \"dtype\": \"category\",\n        \"num_unique_values\": 191,\n        \"samples\": [\n          \"A320, Boeing 777\",\n          \"A320 / Boeing 787-9\",\n          \"A320, A380, Boeing 777-300\"\n        ],\n        \"semantic_type\": \"\",\n        \"description\": \"\"\n      }\n    },\n    {\n      \"column\": \"travel_type\",\n      \"properties\": {\n        \"dtype\": \"category\",\n        \"num_unique_values\": 4,\n        \"samples\": [\n          \"Couple Leisure\",\n          \"Business\",\n          \"Solo Leisure\"\n        ],\n        \"semantic_type\": \"\",\n        \"description\": \"\"\n      }\n    },\n    {\n      \"column\": \"travel_class\",\n      \"properties\": {\n        \"dtype\": \"category\",\n        \"num_unique_values\": 4,\n        \"samples\": [\n          \"Economy Class\",\n          \"First Class\",\n          \"Business Class\"\n        ],\n        \"semantic_type\": \"\",\n        \"description\": \"\"\n      }\n    },\n    {\n      \"column\": \"route\",\n      \"properties\": {\n        \"dtype\": \"category\",\n        \"num_unique_values\": 1472,\n        \"samples\": [\n          \"London Heathrow to Bilbao\",\n          \"London to Bologna\",\n          \"KBP to LHR\"\n        ],\n        \"semantic_type\": \"\",\n        \"description\": \"\"\n      }\n    },\n    {\n      \"column\": \"date\",\n      \"properties\": {\n        \"dtype\": \"object\",\n        \"num_unique_values\": 100,\n        \"samples\": [\n          \"December 2015\",\n          \"February 2018\",\n          \"February 2017\"\n        ],\n        \"semantic_type\": \"\",\n        \"description\": \"\"\n      }\n    },\n    {\n      \"column\": \"seating_comfort\",\n      \"properties\": {\n        \"dtype\": \"number\",\n        \"std\": 1.3564211991394672,\n        \"min\": 1.0,\n        \"max\": 5.0,\n        \"num_unique_values\": 5,\n        \"samples\": [\n          4.0,\n          5.0,\n          2.0\n        ],\n        \"semantic_type\": \"\",\n        \"description\": \"\"\n      }\n    },\n    {\n      \"column\": \"staff_service\",\n      \"properties\": {\n        \"dtype\": \"number\",\n        \"std\": 1.4823822730344685,\n        \"min\": 1.0,\n        \"max\": 5.0,\n        \"num_unique_values\": 5,\n        \"samples\": [\n          3.0,\n          5.0,\n          2.0\n        ],\n        \"semantic_type\": \"\",\n        \"description\": \"\"\n      }\n    },\n    {\n      \"column\": \"food_quality\",\n      \"properties\": {\n        \"dtype\": \"number\",\n        \"std\": 1.4416232359393033,\n        \"min\": 0.0,\n        \"max\": 5.0,\n        \"num_unique_values\": 6,\n        \"samples\": [\n          4.0,\n          3.0,\n          0.0\n        ],\n        \"semantic_type\": \"\",\n        \"description\": \"\"\n      }\n    },\n    {\n      \"column\": \"entertainment\",\n      \"properties\": {\n        \"dtype\": \"number\",\n        \"std\": 1.407589816693308,\n        \"min\": 0.0,\n        \"max\": 5.0,\n        \"num_unique_values\": 6,\n        \"samples\": [\n          4.0,\n          1.0,\n          0.0\n        ],\n        \"semantic_type\": \"\",\n        \"description\": \"\"\n      }\n    },\n    {\n      \"column\": \"wifi\",\n      \"properties\": {\n        \"dtype\": \"number\",\n        \"std\": 1.356913717142432,\n        \"min\": 1.0,\n        \"max\": 5.0,\n        \"num_unique_values\": 5,\n        \"samples\": [\n          2.0,\n          3.0,\n          5.0\n        ],\n        \"semantic_type\": \"\",\n        \"description\": \"\"\n      }\n    },\n    {\n      \"column\": \"ground_service\",\n      \"properties\": {\n        \"dtype\": \"number\",\n        \"std\": 1.4438980186922972,\n        \"min\": 1.0,\n        \"max\": 5.0,\n        \"num_unique_values\": 5,\n        \"samples\": [\n          4.0,\n          5.0,\n          1.0\n        ],\n        \"semantic_type\": \"\",\n        \"description\": \"\"\n      }\n    },\n    {\n      \"column\": \"value_for_money\",\n      \"properties\": {\n        \"dtype\": \"number\",\n        \"std\": 1,\n        \"min\": 0,\n        \"max\": 5,\n        \"num_unique_values\": 6,\n        \"samples\": [\n          3,\n          4,\n          0\n        ],\n        \"semantic_type\": \"\",\n        \"description\": \"\"\n      }\n    },\n    {\n      \"column\": \"recommended\",\n      \"properties\": {\n        \"dtype\": \"category\",\n        \"num_unique_values\": 2,\n        \"samples\": [\n          \"no\",\n          \"yes\"\n        ],\n        \"semantic_type\": \"\",\n        \"description\": \"\"\n      }\n    },\n    {\n      \"column\": \"overall_rating\",\n      \"properties\": {\n        \"dtype\": \"number\",\n        \"std\": 3.157931983525855,\n        \"min\": 1.0,\n        \"max\": 10.0,\n        \"num_unique_values\": 10,\n        \"samples\": [\n          8.0,\n          1.0\n        ],\n        \"semantic_type\": \"\",\n        \"description\": \"\"\n      }\n    },\n    {\n      \"column\": \"review\",\n      \"properties\": {\n        \"dtype\": \"string\",\n        \"num_unique_values\": 3336,\n        \"samples\": [\n          \"  Lower Deck Club Class seat, with the current awful, narrow business class facing seats. British Airways premium passengers are treated with indifference at best, and Club Class is simply terrible. My food was not fit for consumption. WIFI broken. Crew morale low. IFE quality a bad joke. To add insult to injury, the  amenity packs are contemptible. What makes BA management think that business people require, (or indeed would retain) a package of socks, mask, plastic pen, and disposable tooth brush? The ongoing decline of this once-great national airline is palpable. \",\n          \"Flew Heathrow to Lyon return. Late flight on the way out but made up all but 10 mins of the time. Catering hardly worth the effort as comprised unappetising looking sandwich and one drink (not even tea or coffee on the outbound). Crew good and check in very good especially at Heathrow.\"\n        ],\n        \"semantic_type\": \"\",\n        \"description\": \"\"\n      }\n    }\n  ]\n}"
            }
          },
          "metadata": {},
          "execution_count": 3
        }
      ],
      "source": [
        "#Read the Data\n",
        "df = pd.read_csv(\"drive/MyDrive/Dataset_Capstone/British_Airways.csv\")\n",
        "er = df.copy()\n",
        "er.head()"
      ]
    },
    {
      "cell_type": "code",
      "source": [
        "er['route'].unique()"
      ],
      "metadata": {
        "colab": {
          "base_uri": "https://localhost:8080/"
        },
        "id": "I6q90H05P5Jm",
        "outputId": "48266512-dacc-48d2-c905-05d505199200"
      },
      "execution_count": null,
      "outputs": [
        {
          "output_type": "execute_result",
          "data": {
            "text/plain": [
              "array(['London to Lisbon', 'Montreal to Edinburgh via London Heathrow',\n",
              "       'Miami to Budapest via London', ..., 'London-Vancouver return',\n",
              "       'LHR-ORD', 'BOM-LHR'], dtype=object)"
            ]
          },
          "metadata": {},
          "execution_count": 4
        }
      ]
    },
    {
      "cell_type": "code",
      "source": [
        "#Check baris dan kolom\n",
        "er.shape"
      ],
      "metadata": {
        "id": "GEb0_M5FyEYE",
        "colab": {
          "base_uri": "https://localhost:8080/"
        },
        "outputId": "0d74a837-1966-4fb0-8d87-a0b4cac5f927"
      },
      "execution_count": null,
      "outputs": [
        {
          "output_type": "execute_result",
          "data": {
            "text/plain": [
              "(3424, 16)"
            ]
          },
          "metadata": {},
          "execution_count": 5
        }
      ]
    },
    {
      "cell_type": "code",
      "source": [
        "#Check informasi dari data\n",
        "er.info()"
      ],
      "metadata": {
        "id": "x0AHGW6mxdH7",
        "colab": {
          "base_uri": "https://localhost:8080/"
        },
        "outputId": "cbb77abb-1abb-43d1-9ee7-128b9f1b1946"
      },
      "execution_count": null,
      "outputs": [
        {
          "output_type": "stream",
          "name": "stdout",
          "text": [
            "<class 'pandas.core.frame.DataFrame'>\n",
            "RangeIndex: 3424 entries, 0 to 3423\n",
            "Data columns (total 16 columns):\n",
            " #   Column           Non-Null Count  Dtype  \n",
            "---  ------           --------------  -----  \n",
            " 0   status           1901 non-null   object \n",
            " 1   aircraft         1787 non-null   object \n",
            " 2   travel_type      2654 non-null   object \n",
            " 3   travel_class     3422 non-null   object \n",
            " 4   route            2650 non-null   object \n",
            " 5   date             2646 non-null   object \n",
            " 6   seating_comfort  3326 non-null   float64\n",
            " 7   staff_service    3319 non-null   float64\n",
            " 8   food_quality     3094 non-null   float64\n",
            " 9   entertainment    2413 non-null   float64\n",
            " 10  wifi             505 non-null    float64\n",
            " 11  ground_service   2588 non-null   float64\n",
            " 12  value_for_money  3424 non-null   int64  \n",
            " 13  recommended      3424 non-null   object \n",
            " 14  overall_rating   3418 non-null   float64\n",
            " 15  review           3424 non-null   object \n",
            "dtypes: float64(7), int64(1), object(8)\n",
            "memory usage: 428.1+ KB\n"
          ]
        }
      ]
    },
    {
      "cell_type": "code",
      "source": [
        "#check missing value\n",
        "er.isnull().sum()"
      ],
      "metadata": {
        "id": "-cycwv6EyGtZ",
        "colab": {
          "base_uri": "https://localhost:8080/"
        },
        "outputId": "9a7f60d4-acf4-44e0-ad12-ec62f102d8dc"
      },
      "execution_count": null,
      "outputs": [
        {
          "output_type": "execute_result",
          "data": {
            "text/plain": [
              "status             1523\n",
              "aircraft           1637\n",
              "travel_type         770\n",
              "travel_class          2\n",
              "route               774\n",
              "date                778\n",
              "seating_comfort      98\n",
              "staff_service       105\n",
              "food_quality        330\n",
              "entertainment      1011\n",
              "wifi               2919\n",
              "ground_service      836\n",
              "value_for_money       0\n",
              "recommended           0\n",
              "overall_rating        6\n",
              "review                0\n",
              "dtype: int64"
            ]
          },
          "metadata": {},
          "execution_count": 7
        }
      ]
    },
    {
      "cell_type": "markdown",
      "source": [
        "## EDA"
      ],
      "metadata": {
        "id": "YU9eqA_O1tVf"
      }
    },
    {
      "cell_type": "markdown",
      "source": [
        "Todo!\n",
        "- [x] Clean fitur status dari simbol dan miss value\n",
        "- [ ] Handling missing value di fitur date\n",
        "- [ ] Handling missing value di fitur status"
      ],
      "metadata": {
        "id": "e79WuDKt2URF"
      }
    },
    {
      "cell_type": "code",
      "source": [
        "#check duplikasi data\n",
        "er.duplicated().sum()"
      ],
      "metadata": {
        "id": "vtQK45gXyKpP",
        "colab": {
          "base_uri": "https://localhost:8080/"
        },
        "outputId": "4e02333b-7579-49f3-d39d-d6aa0c756d6a"
      },
      "execution_count": null,
      "outputs": [
        {
          "output_type": "execute_result",
          "data": {
            "text/plain": [
              "88"
            ]
          },
          "metadata": {},
          "execution_count": 8
        }
      ]
    },
    {
      "cell_type": "code",
      "source": [
        "er.drop_duplicates()"
      ],
      "metadata": {
        "collapsed": true,
        "id": "xsOiXMds1vpN",
        "colab": {
          "base_uri": "https://localhost:8080/",
          "height": 1000
        },
        "outputId": "92050bdf-feef-44e3-d82c-300f5b809b11"
      },
      "execution_count": null,
      "outputs": [
        {
          "output_type": "execute_result",
          "data": {
            "text/plain": [
              "                status           aircraft   travel_type     travel_class  \\\n",
              "0     ✅ Trip Verified                A320  Solo Leisure   Business Class   \n",
              "1     ✅ Trip Verified   Boeing 787 / A320  Solo Leisure    Economy Class   \n",
              "2     ✅ Trip Verified                 NaN  Solo Leisure    Economy Class   \n",
              "3     ✅ Trip Verified                 NaN  Solo Leisure  Premium Economy   \n",
              "4     ✅ Trip Verified                 NaN  Solo Leisure    Economy Class   \n",
              "...                ...                ...           ...              ...   \n",
              "3419               NaN                NaN           NaN   Business Class   \n",
              "3420               NaN                NaN           NaN   Business Class   \n",
              "3421               NaN                NaN           NaN    Economy Class   \n",
              "3422               NaN                NaN           NaN  Premium Economy   \n",
              "3423               NaN                NaN           NaN      First Class   \n",
              "\n",
              "                                          route           date  \\\n",
              "0                              London to Lisbon  November 2022   \n",
              "1     Montreal to Edinburgh via London Heathrow   January 2022   \n",
              "2                  Miami to Budapest via London  November 2022   \n",
              "3          Amman Jordan to London UK (Heathrow)  November 2022   \n",
              "4          Dusseldorf to London via Los Angeles    August 2022   \n",
              "...                                         ...            ...   \n",
              "3419                                        NaN            NaN   \n",
              "3420                                        NaN            NaN   \n",
              "3421                                        NaN            NaN   \n",
              "3422                                        NaN            NaN   \n",
              "3423                                        NaN            NaN   \n",
              "\n",
              "      seating_comfort  staff_service  food_quality  entertainment  wifi  \\\n",
              "0                 3.0            4.0           4.0            NaN   NaN   \n",
              "1                 4.0            4.0           4.0            4.0   NaN   \n",
              "2                 2.0            3.0           3.0            4.0   NaN   \n",
              "3                 3.0            2.0           1.0            NaN   NaN   \n",
              "4                 1.0            1.0           1.0            1.0   1.0   \n",
              "...               ...            ...           ...            ...   ...   \n",
              "3419              4.0            3.0           2.0            4.0   NaN   \n",
              "3420              4.0            5.0           4.0            0.0   NaN   \n",
              "3421              NaN            NaN           NaN            NaN   NaN   \n",
              "3422              1.0            3.0           5.0            0.0   NaN   \n",
              "3423              4.0            5.0           5.0            2.0   NaN   \n",
              "\n",
              "      ground_service  value_for_money recommended  overall_rating  \\\n",
              "0                3.0                3         yes             7.0   \n",
              "1                4.0                4         yes             7.0   \n",
              "2                1.0                1          no             1.0   \n",
              "3                4.0                2          no             4.0   \n",
              "4                1.0                1          no             1.0   \n",
              "...              ...              ...         ...             ...   \n",
              "3419             NaN                3         yes             5.0   \n",
              "3420             NaN                3         yes             9.0   \n",
              "3421             NaN                4         yes             5.0   \n",
              "3422             NaN                1          no             4.0   \n",
              "3423             NaN                2          no             4.0   \n",
              "\n",
              "                                                 review  \n",
              "0       I virtually gave up on British Airways about...  \n",
              "1       I was pleasantly surprised that the airline ...  \n",
              "2       British Airways is late, their website is at...  \n",
              "3      Flew from Amman to London on Nov. 14 2022. No...  \n",
              "4      This is the worst experience I have ever had ...  \n",
              "...                                                 ...  \n",
              "3419  Flew return in CW from LHR to BKK in August 20...  \n",
              "3420  LHR to HAM. Purser addresses all club passenge...  \n",
              "3421  My son who had worked for British Airways urge...  \n",
              "3422  London City-New York JFK via Shannon on A318 b...  \n",
              "3423  SIN-LHR BA12 B747-436 First Class. Old aircraf...  \n",
              "\n",
              "[3336 rows x 16 columns]"
            ],
            "text/html": [
              "\n",
              "  <div id=\"df-5bf360eb-273c-493a-9154-d57abada0656\" class=\"colab-df-container\">\n",
              "    <div>\n",
              "<style scoped>\n",
              "    .dataframe tbody tr th:only-of-type {\n",
              "        vertical-align: middle;\n",
              "    }\n",
              "\n",
              "    .dataframe tbody tr th {\n",
              "        vertical-align: top;\n",
              "    }\n",
              "\n",
              "    .dataframe thead th {\n",
              "        text-align: right;\n",
              "    }\n",
              "</style>\n",
              "<table border=\"1\" class=\"dataframe\">\n",
              "  <thead>\n",
              "    <tr style=\"text-align: right;\">\n",
              "      <th></th>\n",
              "      <th>status</th>\n",
              "      <th>aircraft</th>\n",
              "      <th>travel_type</th>\n",
              "      <th>travel_class</th>\n",
              "      <th>route</th>\n",
              "      <th>date</th>\n",
              "      <th>seating_comfort</th>\n",
              "      <th>staff_service</th>\n",
              "      <th>food_quality</th>\n",
              "      <th>entertainment</th>\n",
              "      <th>wifi</th>\n",
              "      <th>ground_service</th>\n",
              "      <th>value_for_money</th>\n",
              "      <th>recommended</th>\n",
              "      <th>overall_rating</th>\n",
              "      <th>review</th>\n",
              "    </tr>\n",
              "  </thead>\n",
              "  <tbody>\n",
              "    <tr>\n",
              "      <th>0</th>\n",
              "      <td>✅ Trip Verified</td>\n",
              "      <td>A320</td>\n",
              "      <td>Solo Leisure</td>\n",
              "      <td>Business Class</td>\n",
              "      <td>London to Lisbon</td>\n",
              "      <td>November 2022</td>\n",
              "      <td>3.0</td>\n",
              "      <td>4.0</td>\n",
              "      <td>4.0</td>\n",
              "      <td>NaN</td>\n",
              "      <td>NaN</td>\n",
              "      <td>3.0</td>\n",
              "      <td>3</td>\n",
              "      <td>yes</td>\n",
              "      <td>7.0</td>\n",
              "      <td>I virtually gave up on British Airways about...</td>\n",
              "    </tr>\n",
              "    <tr>\n",
              "      <th>1</th>\n",
              "      <td>✅ Trip Verified</td>\n",
              "      <td>Boeing 787 / A320</td>\n",
              "      <td>Solo Leisure</td>\n",
              "      <td>Economy Class</td>\n",
              "      <td>Montreal to Edinburgh via London Heathrow</td>\n",
              "      <td>January 2022</td>\n",
              "      <td>4.0</td>\n",
              "      <td>4.0</td>\n",
              "      <td>4.0</td>\n",
              "      <td>4.0</td>\n",
              "      <td>NaN</td>\n",
              "      <td>4.0</td>\n",
              "      <td>4</td>\n",
              "      <td>yes</td>\n",
              "      <td>7.0</td>\n",
              "      <td>I was pleasantly surprised that the airline ...</td>\n",
              "    </tr>\n",
              "    <tr>\n",
              "      <th>2</th>\n",
              "      <td>✅ Trip Verified</td>\n",
              "      <td>NaN</td>\n",
              "      <td>Solo Leisure</td>\n",
              "      <td>Economy Class</td>\n",
              "      <td>Miami to Budapest via London</td>\n",
              "      <td>November 2022</td>\n",
              "      <td>2.0</td>\n",
              "      <td>3.0</td>\n",
              "      <td>3.0</td>\n",
              "      <td>4.0</td>\n",
              "      <td>NaN</td>\n",
              "      <td>1.0</td>\n",
              "      <td>1</td>\n",
              "      <td>no</td>\n",
              "      <td>1.0</td>\n",
              "      <td>British Airways is late, their website is at...</td>\n",
              "    </tr>\n",
              "    <tr>\n",
              "      <th>3</th>\n",
              "      <td>✅ Trip Verified</td>\n",
              "      <td>NaN</td>\n",
              "      <td>Solo Leisure</td>\n",
              "      <td>Premium Economy</td>\n",
              "      <td>Amman Jordan to London UK (Heathrow)</td>\n",
              "      <td>November 2022</td>\n",
              "      <td>3.0</td>\n",
              "      <td>2.0</td>\n",
              "      <td>1.0</td>\n",
              "      <td>NaN</td>\n",
              "      <td>NaN</td>\n",
              "      <td>4.0</td>\n",
              "      <td>2</td>\n",
              "      <td>no</td>\n",
              "      <td>4.0</td>\n",
              "      <td>Flew from Amman to London on Nov. 14 2022. No...</td>\n",
              "    </tr>\n",
              "    <tr>\n",
              "      <th>4</th>\n",
              "      <td>✅ Trip Verified</td>\n",
              "      <td>NaN</td>\n",
              "      <td>Solo Leisure</td>\n",
              "      <td>Economy Class</td>\n",
              "      <td>Dusseldorf to London via Los Angeles</td>\n",
              "      <td>August 2022</td>\n",
              "      <td>1.0</td>\n",
              "      <td>1.0</td>\n",
              "      <td>1.0</td>\n",
              "      <td>1.0</td>\n",
              "      <td>1.0</td>\n",
              "      <td>1.0</td>\n",
              "      <td>1</td>\n",
              "      <td>no</td>\n",
              "      <td>1.0</td>\n",
              "      <td>This is the worst experience I have ever had ...</td>\n",
              "    </tr>\n",
              "    <tr>\n",
              "      <th>...</th>\n",
              "      <td>...</td>\n",
              "      <td>...</td>\n",
              "      <td>...</td>\n",
              "      <td>...</td>\n",
              "      <td>...</td>\n",
              "      <td>...</td>\n",
              "      <td>...</td>\n",
              "      <td>...</td>\n",
              "      <td>...</td>\n",
              "      <td>...</td>\n",
              "      <td>...</td>\n",
              "      <td>...</td>\n",
              "      <td>...</td>\n",
              "      <td>...</td>\n",
              "      <td>...</td>\n",
              "      <td>...</td>\n",
              "    </tr>\n",
              "    <tr>\n",
              "      <th>3419</th>\n",
              "      <td>NaN</td>\n",
              "      <td>NaN</td>\n",
              "      <td>NaN</td>\n",
              "      <td>Business Class</td>\n",
              "      <td>NaN</td>\n",
              "      <td>NaN</td>\n",
              "      <td>4.0</td>\n",
              "      <td>3.0</td>\n",
              "      <td>2.0</td>\n",
              "      <td>4.0</td>\n",
              "      <td>NaN</td>\n",
              "      <td>NaN</td>\n",
              "      <td>3</td>\n",
              "      <td>yes</td>\n",
              "      <td>5.0</td>\n",
              "      <td>Flew return in CW from LHR to BKK in August 20...</td>\n",
              "    </tr>\n",
              "    <tr>\n",
              "      <th>3420</th>\n",
              "      <td>NaN</td>\n",
              "      <td>NaN</td>\n",
              "      <td>NaN</td>\n",
              "      <td>Business Class</td>\n",
              "      <td>NaN</td>\n",
              "      <td>NaN</td>\n",
              "      <td>4.0</td>\n",
              "      <td>5.0</td>\n",
              "      <td>4.0</td>\n",
              "      <td>0.0</td>\n",
              "      <td>NaN</td>\n",
              "      <td>NaN</td>\n",
              "      <td>3</td>\n",
              "      <td>yes</td>\n",
              "      <td>9.0</td>\n",
              "      <td>LHR to HAM. Purser addresses all club passenge...</td>\n",
              "    </tr>\n",
              "    <tr>\n",
              "      <th>3421</th>\n",
              "      <td>NaN</td>\n",
              "      <td>NaN</td>\n",
              "      <td>NaN</td>\n",
              "      <td>Economy Class</td>\n",
              "      <td>NaN</td>\n",
              "      <td>NaN</td>\n",
              "      <td>NaN</td>\n",
              "      <td>NaN</td>\n",
              "      <td>NaN</td>\n",
              "      <td>NaN</td>\n",
              "      <td>NaN</td>\n",
              "      <td>NaN</td>\n",
              "      <td>4</td>\n",
              "      <td>yes</td>\n",
              "      <td>5.0</td>\n",
              "      <td>My son who had worked for British Airways urge...</td>\n",
              "    </tr>\n",
              "    <tr>\n",
              "      <th>3422</th>\n",
              "      <td>NaN</td>\n",
              "      <td>NaN</td>\n",
              "      <td>NaN</td>\n",
              "      <td>Premium Economy</td>\n",
              "      <td>NaN</td>\n",
              "      <td>NaN</td>\n",
              "      <td>1.0</td>\n",
              "      <td>3.0</td>\n",
              "      <td>5.0</td>\n",
              "      <td>0.0</td>\n",
              "      <td>NaN</td>\n",
              "      <td>NaN</td>\n",
              "      <td>1</td>\n",
              "      <td>no</td>\n",
              "      <td>4.0</td>\n",
              "      <td>London City-New York JFK via Shannon on A318 b...</td>\n",
              "    </tr>\n",
              "    <tr>\n",
              "      <th>3423</th>\n",
              "      <td>NaN</td>\n",
              "      <td>NaN</td>\n",
              "      <td>NaN</td>\n",
              "      <td>First Class</td>\n",
              "      <td>NaN</td>\n",
              "      <td>NaN</td>\n",
              "      <td>4.0</td>\n",
              "      <td>5.0</td>\n",
              "      <td>5.0</td>\n",
              "      <td>2.0</td>\n",
              "      <td>NaN</td>\n",
              "      <td>NaN</td>\n",
              "      <td>2</td>\n",
              "      <td>no</td>\n",
              "      <td>4.0</td>\n",
              "      <td>SIN-LHR BA12 B747-436 First Class. Old aircraf...</td>\n",
              "    </tr>\n",
              "  </tbody>\n",
              "</table>\n",
              "<p>3336 rows × 16 columns</p>\n",
              "</div>\n",
              "    <div class=\"colab-df-buttons\">\n",
              "\n",
              "  <div class=\"colab-df-container\">\n",
              "    <button class=\"colab-df-convert\" onclick=\"convertToInteractive('df-5bf360eb-273c-493a-9154-d57abada0656')\"\n",
              "            title=\"Convert this dataframe to an interactive table.\"\n",
              "            style=\"display:none;\">\n",
              "\n",
              "  <svg xmlns=\"http://www.w3.org/2000/svg\" height=\"24px\" viewBox=\"0 -960 960 960\">\n",
              "    <path d=\"M120-120v-720h720v720H120Zm60-500h600v-160H180v160Zm220 220h160v-160H400v160Zm0 220h160v-160H400v160ZM180-400h160v-160H180v160Zm440 0h160v-160H620v160ZM180-180h160v-160H180v160Zm440 0h160v-160H620v160Z\"/>\n",
              "  </svg>\n",
              "    </button>\n",
              "\n",
              "  <style>\n",
              "    .colab-df-container {\n",
              "      display:flex;\n",
              "      gap: 12px;\n",
              "    }\n",
              "\n",
              "    .colab-df-convert {\n",
              "      background-color: #E8F0FE;\n",
              "      border: none;\n",
              "      border-radius: 50%;\n",
              "      cursor: pointer;\n",
              "      display: none;\n",
              "      fill: #1967D2;\n",
              "      height: 32px;\n",
              "      padding: 0 0 0 0;\n",
              "      width: 32px;\n",
              "    }\n",
              "\n",
              "    .colab-df-convert:hover {\n",
              "      background-color: #E2EBFA;\n",
              "      box-shadow: 0px 1px 2px rgba(60, 64, 67, 0.3), 0px 1px 3px 1px rgba(60, 64, 67, 0.15);\n",
              "      fill: #174EA6;\n",
              "    }\n",
              "\n",
              "    .colab-df-buttons div {\n",
              "      margin-bottom: 4px;\n",
              "    }\n",
              "\n",
              "    [theme=dark] .colab-df-convert {\n",
              "      background-color: #3B4455;\n",
              "      fill: #D2E3FC;\n",
              "    }\n",
              "\n",
              "    [theme=dark] .colab-df-convert:hover {\n",
              "      background-color: #434B5C;\n",
              "      box-shadow: 0px 1px 3px 1px rgba(0, 0, 0, 0.15);\n",
              "      filter: drop-shadow(0px 1px 2px rgba(0, 0, 0, 0.3));\n",
              "      fill: #FFFFFF;\n",
              "    }\n",
              "  </style>\n",
              "\n",
              "    <script>\n",
              "      const buttonEl =\n",
              "        document.querySelector('#df-5bf360eb-273c-493a-9154-d57abada0656 button.colab-df-convert');\n",
              "      buttonEl.style.display =\n",
              "        google.colab.kernel.accessAllowed ? 'block' : 'none';\n",
              "\n",
              "      async function convertToInteractive(key) {\n",
              "        const element = document.querySelector('#df-5bf360eb-273c-493a-9154-d57abada0656');\n",
              "        const dataTable =\n",
              "          await google.colab.kernel.invokeFunction('convertToInteractive',\n",
              "                                                    [key], {});\n",
              "        if (!dataTable) return;\n",
              "\n",
              "        const docLinkHtml = 'Like what you see? Visit the ' +\n",
              "          '<a target=\"_blank\" href=https://colab.research.google.com/notebooks/data_table.ipynb>data table notebook</a>'\n",
              "          + ' to learn more about interactive tables.';\n",
              "        element.innerHTML = '';\n",
              "        dataTable['output_type'] = 'display_data';\n",
              "        await google.colab.output.renderOutput(dataTable, element);\n",
              "        const docLink = document.createElement('div');\n",
              "        docLink.innerHTML = docLinkHtml;\n",
              "        element.appendChild(docLink);\n",
              "      }\n",
              "    </script>\n",
              "  </div>\n",
              "\n",
              "\n",
              "<div id=\"df-7ebfde52-9955-4173-9767-42ecd5f22cff\">\n",
              "  <button class=\"colab-df-quickchart\" onclick=\"quickchart('df-7ebfde52-9955-4173-9767-42ecd5f22cff')\"\n",
              "            title=\"Suggest charts\"\n",
              "            style=\"display:none;\">\n",
              "\n",
              "<svg xmlns=\"http://www.w3.org/2000/svg\" height=\"24px\"viewBox=\"0 0 24 24\"\n",
              "     width=\"24px\">\n",
              "    <g>\n",
              "        <path d=\"M19 3H5c-1.1 0-2 .9-2 2v14c0 1.1.9 2 2 2h14c1.1 0 2-.9 2-2V5c0-1.1-.9-2-2-2zM9 17H7v-7h2v7zm4 0h-2V7h2v10zm4 0h-2v-4h2v4z\"/>\n",
              "    </g>\n",
              "</svg>\n",
              "  </button>\n",
              "\n",
              "<style>\n",
              "  .colab-df-quickchart {\n",
              "      --bg-color: #E8F0FE;\n",
              "      --fill-color: #1967D2;\n",
              "      --hover-bg-color: #E2EBFA;\n",
              "      --hover-fill-color: #174EA6;\n",
              "      --disabled-fill-color: #AAA;\n",
              "      --disabled-bg-color: #DDD;\n",
              "  }\n",
              "\n",
              "  [theme=dark] .colab-df-quickchart {\n",
              "      --bg-color: #3B4455;\n",
              "      --fill-color: #D2E3FC;\n",
              "      --hover-bg-color: #434B5C;\n",
              "      --hover-fill-color: #FFFFFF;\n",
              "      --disabled-bg-color: #3B4455;\n",
              "      --disabled-fill-color: #666;\n",
              "  }\n",
              "\n",
              "  .colab-df-quickchart {\n",
              "    background-color: var(--bg-color);\n",
              "    border: none;\n",
              "    border-radius: 50%;\n",
              "    cursor: pointer;\n",
              "    display: none;\n",
              "    fill: var(--fill-color);\n",
              "    height: 32px;\n",
              "    padding: 0;\n",
              "    width: 32px;\n",
              "  }\n",
              "\n",
              "  .colab-df-quickchart:hover {\n",
              "    background-color: var(--hover-bg-color);\n",
              "    box-shadow: 0 1px 2px rgba(60, 64, 67, 0.3), 0 1px 3px 1px rgba(60, 64, 67, 0.15);\n",
              "    fill: var(--button-hover-fill-color);\n",
              "  }\n",
              "\n",
              "  .colab-df-quickchart-complete:disabled,\n",
              "  .colab-df-quickchart-complete:disabled:hover {\n",
              "    background-color: var(--disabled-bg-color);\n",
              "    fill: var(--disabled-fill-color);\n",
              "    box-shadow: none;\n",
              "  }\n",
              "\n",
              "  .colab-df-spinner {\n",
              "    border: 2px solid var(--fill-color);\n",
              "    border-color: transparent;\n",
              "    border-bottom-color: var(--fill-color);\n",
              "    animation:\n",
              "      spin 1s steps(1) infinite;\n",
              "  }\n",
              "\n",
              "  @keyframes spin {\n",
              "    0% {\n",
              "      border-color: transparent;\n",
              "      border-bottom-color: var(--fill-color);\n",
              "      border-left-color: var(--fill-color);\n",
              "    }\n",
              "    20% {\n",
              "      border-color: transparent;\n",
              "      border-left-color: var(--fill-color);\n",
              "      border-top-color: var(--fill-color);\n",
              "    }\n",
              "    30% {\n",
              "      border-color: transparent;\n",
              "      border-left-color: var(--fill-color);\n",
              "      border-top-color: var(--fill-color);\n",
              "      border-right-color: var(--fill-color);\n",
              "    }\n",
              "    40% {\n",
              "      border-color: transparent;\n",
              "      border-right-color: var(--fill-color);\n",
              "      border-top-color: var(--fill-color);\n",
              "    }\n",
              "    60% {\n",
              "      border-color: transparent;\n",
              "      border-right-color: var(--fill-color);\n",
              "    }\n",
              "    80% {\n",
              "      border-color: transparent;\n",
              "      border-right-color: var(--fill-color);\n",
              "      border-bottom-color: var(--fill-color);\n",
              "    }\n",
              "    90% {\n",
              "      border-color: transparent;\n",
              "      border-bottom-color: var(--fill-color);\n",
              "    }\n",
              "  }\n",
              "</style>\n",
              "\n",
              "  <script>\n",
              "    async function quickchart(key) {\n",
              "      const quickchartButtonEl =\n",
              "        document.querySelector('#' + key + ' button');\n",
              "      quickchartButtonEl.disabled = true;  // To prevent multiple clicks.\n",
              "      quickchartButtonEl.classList.add('colab-df-spinner');\n",
              "      try {\n",
              "        const charts = await google.colab.kernel.invokeFunction(\n",
              "            'suggestCharts', [key], {});\n",
              "      } catch (error) {\n",
              "        console.error('Error during call to suggestCharts:', error);\n",
              "      }\n",
              "      quickchartButtonEl.classList.remove('colab-df-spinner');\n",
              "      quickchartButtonEl.classList.add('colab-df-quickchart-complete');\n",
              "    }\n",
              "    (() => {\n",
              "      let quickchartButtonEl =\n",
              "        document.querySelector('#df-7ebfde52-9955-4173-9767-42ecd5f22cff button');\n",
              "      quickchartButtonEl.style.display =\n",
              "        google.colab.kernel.accessAllowed ? 'block' : 'none';\n",
              "    })();\n",
              "  </script>\n",
              "</div>\n",
              "\n",
              "    </div>\n",
              "  </div>\n"
            ],
            "application/vnd.google.colaboratory.intrinsic+json": {
              "type": "dataframe",
              "summary": "{\n  \"name\": \"er\",\n  \"rows\": 3336,\n  \"fields\": [\n    {\n      \"column\": \"status\",\n      \"properties\": {\n        \"dtype\": \"category\",\n        \"num_unique_values\": 6,\n        \"samples\": [\n          \"\\u2705 Trip Verified \",\n          \"Not Verified \",\n          \"We travelled economy from Manchester to Toronto via Heathrow The flight from Manchester to Heathrow and return was very good. The seats had plenty of room and it was easy to fit laptop size briefcases under the seat in front and still have room to stretch your legs. The service from the cabin crew was excellent. The leg from Heathrow to Toronto was not as comfortable but it was acceptable. The seats appeared narrower and my case only just fit under the seat leaving little room to stretch my legs. Whilst the cabin crew forgot requests for drinks they apologised and were very friendly and helpful in other aspects. Unfortunately BA were let down by the attendants on the return leg from Toronto to Heathrow. Whilst the aircraft appeared newer and more comfortable I have never experienced such surly behaviour from the cabin crew. We had seen attendants in the opposite aisle offering passengers water from trays they were carrying but the attendants down our aisle did not do this. The lady in the seat next to me asked for a glass of water before take off. The steward was quite off hand and said he would bring her one in a minute. He did not do this and when she asked again she was told in a very rude manner that take off procedures took priority otherwise non of us were going anywhere. Even after take off she had to ask again. When they served dinner my daughter did not want a meal but she asked if she could just have the bottle of water that was served with it. The steward said that if she did not want the meal she could not have the water but that he would bring her some in a glass later. This had not appeared by the time I had finished eating my meal so I gave her the bottle from mine (My daughter has a medical condition that requires her to drink water frequently throughout the day) Shortly before landing we were served a muffin and a drink. The passengers on the other aisle were served about 15 mins earlier and they were handed paper napkins and cutlery whilst when we were served we were simply handed the muffin wrapped in cellophane but no plate or napkin to catch the crumbs. I asked for a glass of orange and a tea (as I had not drunk anything on the 6 hour flight). The attendant scowled at me and then gave me half a glass of orange and half a cup of tea (which was cold\"\n        ],\n        \"semantic_type\": \"\",\n        \"description\": \"\"\n      }\n    },\n    {\n      \"column\": \"aircraft\",\n      \"properties\": {\n        \"dtype\": \"category\",\n        \"num_unique_values\": 191,\n        \"samples\": [\n          \"A320, Boeing 777\",\n          \"A320 / Boeing 787-9\",\n          \"A320, A380, Boeing 777-300\"\n        ],\n        \"semantic_type\": \"\",\n        \"description\": \"\"\n      }\n    },\n    {\n      \"column\": \"travel_type\",\n      \"properties\": {\n        \"dtype\": \"category\",\n        \"num_unique_values\": 4,\n        \"samples\": [\n          \"Couple Leisure\",\n          \"Business\",\n          \"Solo Leisure\"\n        ],\n        \"semantic_type\": \"\",\n        \"description\": \"\"\n      }\n    },\n    {\n      \"column\": \"travel_class\",\n      \"properties\": {\n        \"dtype\": \"category\",\n        \"num_unique_values\": 4,\n        \"samples\": [\n          \"Economy Class\",\n          \"First Class\",\n          \"Business Class\"\n        ],\n        \"semantic_type\": \"\",\n        \"description\": \"\"\n      }\n    },\n    {\n      \"column\": \"route\",\n      \"properties\": {\n        \"dtype\": \"category\",\n        \"num_unique_values\": 1472,\n        \"samples\": [\n          \"London Heathrow to Bilbao\",\n          \"London to Bologna\",\n          \"KBP to LHR\"\n        ],\n        \"semantic_type\": \"\",\n        \"description\": \"\"\n      }\n    },\n    {\n      \"column\": \"date\",\n      \"properties\": {\n        \"dtype\": \"object\",\n        \"num_unique_values\": 100,\n        \"samples\": [\n          \"December 2015\",\n          \"February 2018\",\n          \"February 2017\"\n        ],\n        \"semantic_type\": \"\",\n        \"description\": \"\"\n      }\n    },\n    {\n      \"column\": \"seating_comfort\",\n      \"properties\": {\n        \"dtype\": \"number\",\n        \"std\": 1.3580455383767325,\n        \"min\": 1.0,\n        \"max\": 5.0,\n        \"num_unique_values\": 5,\n        \"samples\": [\n          4.0,\n          5.0,\n          2.0\n        ],\n        \"semantic_type\": \"\",\n        \"description\": \"\"\n      }\n    },\n    {\n      \"column\": \"staff_service\",\n      \"properties\": {\n        \"dtype\": \"number\",\n        \"std\": 1.483576884029647,\n        \"min\": 1.0,\n        \"max\": 5.0,\n        \"num_unique_values\": 5,\n        \"samples\": [\n          3.0,\n          5.0,\n          2.0\n        ],\n        \"semantic_type\": \"\",\n        \"description\": \"\"\n      }\n    },\n    {\n      \"column\": \"food_quality\",\n      \"properties\": {\n        \"dtype\": \"number\",\n        \"std\": 1.4413449349453715,\n        \"min\": 0.0,\n        \"max\": 5.0,\n        \"num_unique_values\": 6,\n        \"samples\": [\n          4.0,\n          3.0,\n          0.0\n        ],\n        \"semantic_type\": \"\",\n        \"description\": \"\"\n      }\n    },\n    {\n      \"column\": \"entertainment\",\n      \"properties\": {\n        \"dtype\": \"number\",\n        \"std\": 1.405578459563511,\n        \"min\": 0.0,\n        \"max\": 5.0,\n        \"num_unique_values\": 6,\n        \"samples\": [\n          4.0,\n          1.0,\n          0.0\n        ],\n        \"semantic_type\": \"\",\n        \"description\": \"\"\n      }\n    },\n    {\n      \"column\": \"wifi\",\n      \"properties\": {\n        \"dtype\": \"number\",\n        \"std\": 1.3569137171424317,\n        \"min\": 1.0,\n        \"max\": 5.0,\n        \"num_unique_values\": 5,\n        \"samples\": [\n          2.0,\n          3.0,\n          5.0\n        ],\n        \"semantic_type\": \"\",\n        \"description\": \"\"\n      }\n    },\n    {\n      \"column\": \"ground_service\",\n      \"properties\": {\n        \"dtype\": \"number\",\n        \"std\": 1.4444501078664624,\n        \"min\": 1.0,\n        \"max\": 5.0,\n        \"num_unique_values\": 5,\n        \"samples\": [\n          4.0,\n          5.0,\n          1.0\n        ],\n        \"semantic_type\": \"\",\n        \"description\": \"\"\n      }\n    },\n    {\n      \"column\": \"value_for_money\",\n      \"properties\": {\n        \"dtype\": \"number\",\n        \"std\": 1,\n        \"min\": 0,\n        \"max\": 5,\n        \"num_unique_values\": 6,\n        \"samples\": [\n          3,\n          4,\n          0\n        ],\n        \"semantic_type\": \"\",\n        \"description\": \"\"\n      }\n    },\n    {\n      \"column\": \"recommended\",\n      \"properties\": {\n        \"dtype\": \"category\",\n        \"num_unique_values\": 2,\n        \"samples\": [\n          \"no\",\n          \"yes\"\n        ],\n        \"semantic_type\": \"\",\n        \"description\": \"\"\n      }\n    },\n    {\n      \"column\": \"overall_rating\",\n      \"properties\": {\n        \"dtype\": \"number\",\n        \"std\": 3.154714715443135,\n        \"min\": 1.0,\n        \"max\": 10.0,\n        \"num_unique_values\": 10,\n        \"samples\": [\n          8.0,\n          1.0\n        ],\n        \"semantic_type\": \"\",\n        \"description\": \"\"\n      }\n    },\n    {\n      \"column\": \"review\",\n      \"properties\": {\n        \"dtype\": \"string\",\n        \"num_unique_values\": 3336,\n        \"samples\": [\n          \"  Lower Deck Club Class seat, with the current awful, narrow business class facing seats. British Airways premium passengers are treated with indifference at best, and Club Class is simply terrible. My food was not fit for consumption. WIFI broken. Crew morale low. IFE quality a bad joke. To add insult to injury, the  amenity packs are contemptible. What makes BA management think that business people require, (or indeed would retain) a package of socks, mask, plastic pen, and disposable tooth brush? The ongoing decline of this once-great national airline is palpable. \",\n          \"Flew Heathrow to Lyon return. Late flight on the way out but made up all but 10 mins of the time. Catering hardly worth the effort as comprised unappetising looking sandwich and one drink (not even tea or coffee on the outbound). Crew good and check in very good especially at Heathrow.\"\n        ],\n        \"semantic_type\": \"\",\n        \"description\": \"\"\n      }\n    }\n  ]\n}"
            }
          },
          "metadata": {},
          "execution_count": 9
        }
      ]
    },
    {
      "cell_type": "code",
      "source": [
        "#drop kolom yang tidak diperlukan\n",
        "er.drop(columns=['review','aircraft'],axis=0, inplace=True)"
      ],
      "metadata": {
        "id": "IRauhLG5ZEjo"
      },
      "execution_count": null,
      "outputs": []
    },
    {
      "cell_type": "markdown",
      "source": [
        "### Clean fitur status dari simbol dan miss value"
      ],
      "metadata": {
        "id": "T-aOKxbh418S"
      }
    },
    {
      "cell_type": "code",
      "source": [
        "er['status'].unique()"
      ],
      "metadata": {
        "id": "WVj21fd1yMyB",
        "colab": {
          "base_uri": "https://localhost:8080/"
        },
        "outputId": "95aa354e-951b-45cb-c6c0-4ad161fc86cf"
      },
      "execution_count": null,
      "outputs": [
        {
          "output_type": "execute_result",
          "data": {
            "text/plain": [
              "array(['✅ Trip Verified ', 'Not Verified ', '❎ Not Verified ', nan,\n",
              "       '✅ Verified Review ', '❎ Unverified ',\n",
              "       'We travelled economy from Manchester to Toronto via Heathrow The flight from Manchester to Heathrow and return was very good. The seats had plenty of room and it was easy to fit laptop size briefcases under the seat in front and still have room to stretch your legs. The service from the cabin crew was excellent. The leg from Heathrow to Toronto was not as comfortable but it was acceptable. The seats appeared narrower and my case only just fit under the seat leaving little room to stretch my legs. Whilst the cabin crew forgot requests for drinks they apologised and were very friendly and helpful in other aspects. Unfortunately BA were let down by the attendants on the return leg from Toronto to Heathrow. Whilst the aircraft appeared newer and more comfortable I have never experienced such surly behaviour from the cabin crew. We had seen attendants in the opposite aisle offering passengers water from trays they were carrying but the attendants down our aisle did not do this. The lady in the seat next to me asked for a glass of water before take off. The steward was quite off hand and said he would bring her one in a minute. He did not do this and when she asked again she was told in a very rude manner that take off procedures took priority otherwise non of us were going anywhere. Even after take off she had to ask again. When they served dinner my daughter did not want a meal but she asked if she could just have the bottle of water that was served with it. The steward said that if she did not want the meal she could not have the water but that he would bring her some in a glass later. This had not appeared by the time I had finished eating my meal so I gave her the bottle from mine (My daughter has a medical condition that requires her to drink water frequently throughout the day) Shortly before landing we were served a muffin and a drink. The passengers on the other aisle were served about 15 mins earlier and they were handed paper napkins and cutlery whilst when we were served we were simply handed the muffin wrapped in cellophane but no plate or napkin to catch the crumbs. I asked for a glass of orange and a tea (as I had not drunk anything on the 6 hour flight). The attendant scowled at me and then gave me half a glass of orange and half a cup of tea (which was cold'],\n",
              "      dtype=object)"
            ]
          },
          "metadata": {},
          "execution_count": 11
        }
      ]
    },
    {
      "cell_type": "code",
      "source": [
        "# Delete the miss value in status\n",
        "pattern = r'^We travelled.*'\n",
        "\n",
        "# Filter out rows where 'status' matches the pattern\n",
        "er = er[~er['status'].str.contains(pattern, na=False)]"
      ],
      "metadata": {
        "id": "KOU4GEIFyrvp"
      },
      "execution_count": null,
      "outputs": []
    },
    {
      "cell_type": "code",
      "source": [
        "# delete the symbols in status\n",
        "er['status'] = er['status'].str.replace(r'[✅❎]', '', regex=True).str.strip()"
      ],
      "metadata": {
        "id": "GT9I-Mab0dkT"
      },
      "execution_count": null,
      "outputs": []
    },
    {
      "cell_type": "code",
      "source": [
        "er['status'].unique()"
      ],
      "metadata": {
        "id": "_J1idppy0X5g",
        "colab": {
          "base_uri": "https://localhost:8080/"
        },
        "outputId": "b74b007f-068e-4115-d02e-f64b42e2396d"
      },
      "execution_count": null,
      "outputs": [
        {
          "output_type": "execute_result",
          "data": {
            "text/plain": [
              "array(['Trip Verified', 'Not Verified', nan, 'Verified Review',\n",
              "       'Unverified'], dtype=object)"
            ]
          },
          "metadata": {},
          "execution_count": 14
        }
      ]
    },
    {
      "cell_type": "markdown",
      "source": [
        "### Handling missing value fitur status"
      ],
      "metadata": {
        "id": "bXWb1GL46lQq"
      }
    },
    {
      "cell_type": "code",
      "source": [
        "#Melihat data dengan status null\n",
        "status = er[er['status'].isnull()]\n",
        "status.head(1)"
      ],
      "metadata": {
        "id": "xFXabO2Z6jEA",
        "colab": {
          "base_uri": "https://localhost:8080/"
        },
        "outputId": "7e12fa41-5a78-4980-c923-60f20831009f"
      },
      "execution_count": null,
      "outputs": [
        {
          "output_type": "execute_result",
          "data": {
            "text/plain": [
              "    status   travel_type   travel_class                         route  \\\n",
              "995    NaN  Solo Leisure  Economy Class  Belfast to Lisbon via London   \n",
              "\n",
              "           date  seating_comfort  staff_service  food_quality  entertainment  \\\n",
              "995  March 2018              3.0            4.0           1.0            NaN   \n",
              "\n",
              "     wifi  ground_service  value_for_money recommended  overall_rating  \n",
              "995   NaN             4.0                2          no             7.0  "
            ],
            "text/html": [
              "\n",
              "  <div id=\"df-34f8403d-fc73-44b8-8301-ae799a472bdf\" class=\"colab-df-container\">\n",
              "    <div>\n",
              "<style scoped>\n",
              "    .dataframe tbody tr th:only-of-type {\n",
              "        vertical-align: middle;\n",
              "    }\n",
              "\n",
              "    .dataframe tbody tr th {\n",
              "        vertical-align: top;\n",
              "    }\n",
              "\n",
              "    .dataframe thead th {\n",
              "        text-align: right;\n",
              "    }\n",
              "</style>\n",
              "<table border=\"1\" class=\"dataframe\">\n",
              "  <thead>\n",
              "    <tr style=\"text-align: right;\">\n",
              "      <th></th>\n",
              "      <th>status</th>\n",
              "      <th>travel_type</th>\n",
              "      <th>travel_class</th>\n",
              "      <th>route</th>\n",
              "      <th>date</th>\n",
              "      <th>seating_comfort</th>\n",
              "      <th>staff_service</th>\n",
              "      <th>food_quality</th>\n",
              "      <th>entertainment</th>\n",
              "      <th>wifi</th>\n",
              "      <th>ground_service</th>\n",
              "      <th>value_for_money</th>\n",
              "      <th>recommended</th>\n",
              "      <th>overall_rating</th>\n",
              "    </tr>\n",
              "  </thead>\n",
              "  <tbody>\n",
              "    <tr>\n",
              "      <th>995</th>\n",
              "      <td>NaN</td>\n",
              "      <td>Solo Leisure</td>\n",
              "      <td>Economy Class</td>\n",
              "      <td>Belfast to Lisbon via London</td>\n",
              "      <td>March 2018</td>\n",
              "      <td>3.0</td>\n",
              "      <td>4.0</td>\n",
              "      <td>1.0</td>\n",
              "      <td>NaN</td>\n",
              "      <td>NaN</td>\n",
              "      <td>4.0</td>\n",
              "      <td>2</td>\n",
              "      <td>no</td>\n",
              "      <td>7.0</td>\n",
              "    </tr>\n",
              "  </tbody>\n",
              "</table>\n",
              "</div>\n",
              "    <div class=\"colab-df-buttons\">\n",
              "\n",
              "  <div class=\"colab-df-container\">\n",
              "    <button class=\"colab-df-convert\" onclick=\"convertToInteractive('df-34f8403d-fc73-44b8-8301-ae799a472bdf')\"\n",
              "            title=\"Convert this dataframe to an interactive table.\"\n",
              "            style=\"display:none;\">\n",
              "\n",
              "  <svg xmlns=\"http://www.w3.org/2000/svg\" height=\"24px\" viewBox=\"0 -960 960 960\">\n",
              "    <path d=\"M120-120v-720h720v720H120Zm60-500h600v-160H180v160Zm220 220h160v-160H400v160Zm0 220h160v-160H400v160ZM180-400h160v-160H180v160Zm440 0h160v-160H620v160ZM180-180h160v-160H180v160Zm440 0h160v-160H620v160Z\"/>\n",
              "  </svg>\n",
              "    </button>\n",
              "\n",
              "  <style>\n",
              "    .colab-df-container {\n",
              "      display:flex;\n",
              "      gap: 12px;\n",
              "    }\n",
              "\n",
              "    .colab-df-convert {\n",
              "      background-color: #E8F0FE;\n",
              "      border: none;\n",
              "      border-radius: 50%;\n",
              "      cursor: pointer;\n",
              "      display: none;\n",
              "      fill: #1967D2;\n",
              "      height: 32px;\n",
              "      padding: 0 0 0 0;\n",
              "      width: 32px;\n",
              "    }\n",
              "\n",
              "    .colab-df-convert:hover {\n",
              "      background-color: #E2EBFA;\n",
              "      box-shadow: 0px 1px 2px rgba(60, 64, 67, 0.3), 0px 1px 3px 1px rgba(60, 64, 67, 0.15);\n",
              "      fill: #174EA6;\n",
              "    }\n",
              "\n",
              "    .colab-df-buttons div {\n",
              "      margin-bottom: 4px;\n",
              "    }\n",
              "\n",
              "    [theme=dark] .colab-df-convert {\n",
              "      background-color: #3B4455;\n",
              "      fill: #D2E3FC;\n",
              "    }\n",
              "\n",
              "    [theme=dark] .colab-df-convert:hover {\n",
              "      background-color: #434B5C;\n",
              "      box-shadow: 0px 1px 3px 1px rgba(0, 0, 0, 0.15);\n",
              "      filter: drop-shadow(0px 1px 2px rgba(0, 0, 0, 0.3));\n",
              "      fill: #FFFFFF;\n",
              "    }\n",
              "  </style>\n",
              "\n",
              "    <script>\n",
              "      const buttonEl =\n",
              "        document.querySelector('#df-34f8403d-fc73-44b8-8301-ae799a472bdf button.colab-df-convert');\n",
              "      buttonEl.style.display =\n",
              "        google.colab.kernel.accessAllowed ? 'block' : 'none';\n",
              "\n",
              "      async function convertToInteractive(key) {\n",
              "        const element = document.querySelector('#df-34f8403d-fc73-44b8-8301-ae799a472bdf');\n",
              "        const dataTable =\n",
              "          await google.colab.kernel.invokeFunction('convertToInteractive',\n",
              "                                                    [key], {});\n",
              "        if (!dataTable) return;\n",
              "\n",
              "        const docLinkHtml = 'Like what you see? Visit the ' +\n",
              "          '<a target=\"_blank\" href=https://colab.research.google.com/notebooks/data_table.ipynb>data table notebook</a>'\n",
              "          + ' to learn more about interactive tables.';\n",
              "        element.innerHTML = '';\n",
              "        dataTable['output_type'] = 'display_data';\n",
              "        await google.colab.output.renderOutput(dataTable, element);\n",
              "        const docLink = document.createElement('div');\n",
              "        docLink.innerHTML = docLinkHtml;\n",
              "        element.appendChild(docLink);\n",
              "      }\n",
              "    </script>\n",
              "  </div>\n",
              "\n",
              "\n",
              "    </div>\n",
              "  </div>\n"
            ],
            "application/vnd.google.colaboratory.intrinsic+json": {
              "type": "dataframe",
              "variable_name": "status",
              "repr_error": "0"
            }
          },
          "metadata": {},
          "execution_count": 15
        }
      ]
    },
    {
      "cell_type": "code",
      "source": [
        "#Check missing value overall rating untuk mengisi status nantinya\n",
        "er = er.dropna(subset=['overall_rating'])\n",
        "er.isnull().sum()"
      ],
      "metadata": {
        "id": "3ly-ilTFHg17",
        "colab": {
          "base_uri": "https://localhost:8080/"
        },
        "outputId": "cfff28b6-6454-4f15-ed42-bd9ba78f1662"
      },
      "execution_count": null,
      "outputs": [
        {
          "output_type": "execute_result",
          "data": {
            "text/plain": [
              "status             1517\n",
              "travel_type         763\n",
              "travel_class          2\n",
              "route               767\n",
              "date                771\n",
              "seating_comfort      98\n",
              "staff_service       105\n",
              "food_quality        330\n",
              "entertainment      1011\n",
              "wifi               2912\n",
              "ground_service      829\n",
              "value_for_money       0\n",
              "recommended           0\n",
              "overall_rating        0\n",
              "dtype: int64"
            ]
          },
          "metadata": {},
          "execution_count": 16
        }
      ]
    },
    {
      "cell_type": "code",
      "source": [
        "#melihat banyak baris status yang missing value\n",
        "status.shape"
      ],
      "metadata": {
        "id": "g_lEN8d-Kdow",
        "colab": {
          "base_uri": "https://localhost:8080/"
        },
        "outputId": "2564855d-eebc-4f35-c56d-81cb7a6c7770"
      },
      "execution_count": null,
      "outputs": [
        {
          "output_type": "execute_result",
          "data": {
            "text/plain": [
              "(1523, 14)"
            ]
          },
          "metadata": {},
          "execution_count": 17
        }
      ]
    },
    {
      "cell_type": "code",
      "source": [
        "er['status'] = er['status'].fillna('Verified Review')"
      ],
      "metadata": {
        "id": "ByHNoHFDG89O"
      },
      "execution_count": null,
      "outputs": []
    },
    {
      "cell_type": "code",
      "source": [
        "#menggabungkan value Unverified dengan Not Verified\n",
        "er['status'] = er['status'].replace({'Unverified' : 'Not Verified'})"
      ],
      "metadata": {
        "id": "fDSZGGu6GVkq"
      },
      "execution_count": null,
      "outputs": []
    },
    {
      "cell_type": "code",
      "source": [
        "er['status'] = er['status'].replace({'Not Verified' : 'Verified Review'})"
      ],
      "metadata": {
        "id": "GEITYtlfEg9o"
      },
      "execution_count": null,
      "outputs": []
    },
    {
      "cell_type": "code",
      "source": [
        "#merubah status menjadi numerik untuk keperluan dashboard\n",
        "er['status_num'] = er['status'].replace({'Verified Review' : 1, 'Trip Verified' : 2})"
      ],
      "metadata": {
        "id": "nDFwsuwEADxo"
      },
      "execution_count": null,
      "outputs": []
    },
    {
      "cell_type": "code",
      "source": [
        "# Menghitung jumlah setiap status\n",
        "stat_pie = er['status'].value_counts()\n",
        "\n",
        "# Membuat pie chart\n",
        "stat_pie.plot(kind='pie', autopct='%1.1f%%', startangle=90)\n",
        "plt.title('Status Distribution')\n",
        "plt.ylabel('')\n",
        "plt.show()\n"
      ],
      "metadata": {
        "id": "LwhmY7l5KItg",
        "colab": {
          "base_uri": "https://localhost:8080/"
        },
        "outputId": "6a49c681-648a-4c3a-a2f7-82970f80cc71"
      },
      "execution_count": null,
      "outputs": [
        {
          "output_type": "display_data",
          "data": {
            "text/plain": [
              "<Figure size 640x480 with 1 Axes>"
            ],
            "image/png": "[encoded data removed]"
          },
          "metadata": {}
        }
      ]
    },
    {
      "cell_type": "code",
      "source": [
        "# Menghitung jumlah setiap status\n",
        "stat = er['status'].value_counts()\n",
        "\n",
        "# Membuat bar chart dengan warna berbeda\n",
        "colors = ['green','blue','red']\n",
        "stat.plot(kind='bar', color=colors)\n",
        "plt.title('Status Count')\n",
        "plt.ylabel('Count')\n",
        "plt.xlabel('Status')\n",
        "plt.show()"
      ],
      "metadata": {
        "id": "NqFfUVNbK0N8",
        "colab": {
          "base_uri": "https://localhost:8080/"
        },
        "outputId": "63a47f5b-4990-46d7-c561-7d9f2430f5d9"
      },
      "execution_count": null,
      "outputs": [
        {
          "output_type": "display_data",
          "data": {
            "text/plain": [
              "<Figure size 640x480 with 1 Axes>"
            ],
            "image/png": "[encoded data removed]"
          },
          "metadata": {}
        }
      ]
    },
    {
      "cell_type": "markdown",
      "source": [
        "###  Handling missing value di fitur date"
      ],
      "metadata": {
        "id": "O0wsAreR488h"
      }
    },
    {
      "cell_type": "code",
      "source": [
        "er['date'].isnull().sum()"
      ],
      "metadata": {
        "id": "RcVMR91m0acG",
        "colab": {
          "base_uri": "https://localhost:8080/"
        },
        "outputId": "5aaed740-139e-4051-b5ac-a59cb0cd006a"
      },
      "execution_count": null,
      "outputs": [
        {
          "output_type": "execute_result",
          "data": {
            "text/plain": [
              "771"
            ]
          },
          "metadata": {},
          "execution_count": 24
        }
      ]
    },
    {
      "cell_type": "code",
      "source": [
        "#check the nan value on date columns\n",
        "nan_date = er[er['date'].isna()]\n",
        "nan_date.shape"
      ],
      "metadata": {
        "id": "xC89TnPg38_F",
        "colab": {
          "base_uri": "https://localhost:8080/"
        },
        "outputId": "0f9c7a45-e1bb-445c-cc4a-a660db10c637"
      },
      "execution_count": null,
      "outputs": [
        {
          "output_type": "execute_result",
          "data": {
            "text/plain": [
              "(771, 15)"
            ]
          },
          "metadata": {},
          "execution_count": 25
        }
      ]
    },
    {
      "cell_type": "code",
      "source": [
        "nan_date.head()"
      ],
      "metadata": {
        "colab": {
          "base_uri": "https://localhost:8080/"
        },
        "id": "SItscCX5hkgD",
        "outputId": "d378bfc0-c660-4abb-b817-e367a89465b9"
      },
      "execution_count": null,
      "outputs": [
        {
          "output_type": "execute_result",
          "data": {
            "text/plain": [
              "               status     travel_type    travel_class                route  \\\n",
              "2569  Verified Review        Business   Economy Class    LHR to VIE return   \n",
              "2647  Verified Review        Business  Business Class             FRA-LHR    \n",
              "2648  Verified Review  Couple Leisure  Business Class  Gatwick to Barbados   \n",
              "2649  Verified Review        Business  Business Class       Kiev to London   \n",
              "2650  Verified Review  Family Leisure   Economy Class                  NaN   \n",
              "\n",
              "     date  seating_comfort  staff_service  food_quality  entertainment  wifi  \\\n",
              "2569  NaN              3.0            2.0           2.0            NaN   NaN   \n",
              "2647  NaN              5.0            2.0           2.0            1.0   NaN   \n",
              "2648  NaN              3.0            4.0           3.0            4.0   NaN   \n",
              "2649  NaN              3.0            5.0           NaN            4.0   1.0   \n",
              "2650  NaN              3.0            5.0           5.0            5.0   NaN   \n",
              "\n",
              "      ground_service  value_for_money recommended  overall_rating  status_num  \n",
              "2569             2.0                3          no             3.0           1  \n",
              "2647             NaN                1          no             4.0           1  \n",
              "2648             NaN                3          no             5.0           1  \n",
              "2649             NaN                4         yes             8.0           1  \n",
              "2650             NaN                4         yes             8.0           1  "
            ],
            "text/html": [
              "\n",
              "  <div id=\"df-f12c42ac-75ed-43a3-9ce3-c12d4984592f\" class=\"colab-df-container\">\n",
              "    <div>\n",
              "<style scoped>\n",
              "    .dataframe tbody tr th:only-of-type {\n",
              "        vertical-align: middle;\n",
              "    }\n",
              "\n",
              "    .dataframe tbody tr th {\n",
              "        vertical-align: top;\n",
              "    }\n",
              "\n",
              "    .dataframe thead th {\n",
              "        text-align: right;\n",
              "    }\n",
              "</style>\n",
              "<table border=\"1\" class=\"dataframe\">\n",
              "  <thead>\n",
              "    <tr style=\"text-align: right;\">\n",
              "      <th></th>\n",
              "      <th>status</th>\n",
              "      <th>travel_type</th>\n",
              "      <th>travel_class</th>\n",
              "      <th>route</th>\n",
              "      <th>date</th>\n",
              "      <th>seating_comfort</th>\n",
              "      <th>staff_service</th>\n",
              "      <th>food_quality</th>\n",
              "      <th>entertainment</th>\n",
              "      <th>wifi</th>\n",
              "      <th>ground_service</th>\n",
              "      <th>value_for_money</th>\n",
              "      <th>recommended</th>\n",
              "      <th>overall_rating</th>\n",
              "      <th>status_num</th>\n",
              "    </tr>\n",
              "  </thead>\n",
              "  <tbody>\n",
              "    <tr>\n",
              "      <th>2569</th>\n",
              "      <td>Verified Review</td>\n",
              "      <td>Business</td>\n",
              "      <td>Economy Class</td>\n",
              "      <td>LHR to VIE return</td>\n",
              "      <td>NaN</td>\n",
              "      <td>3.0</td>\n",
              "      <td>2.0</td>\n",
              "      <td>2.0</td>\n",
              "      <td>NaN</td>\n",
              "      <td>NaN</td>\n",
              "      <td>2.0</td>\n",
              "      <td>3</td>\n",
              "      <td>no</td>\n",
              "      <td>3.0</td>\n",
              "      <td>1</td>\n",
              "    </tr>\n",
              "    <tr>\n",
              "      <th>2647</th>\n",
              "      <td>Verified Review</td>\n",
              "      <td>Business</td>\n",
              "      <td>Business Class</td>\n",
              "      <td>FRA-LHR</td>\n",
              "      <td>NaN</td>\n",
              "      <td>5.0</td>\n",
              "      <td>2.0</td>\n",
              "      <td>2.0</td>\n",
              "      <td>1.0</td>\n",
              "      <td>NaN</td>\n",
              "      <td>NaN</td>\n",
              "      <td>1</td>\n",
              "      <td>no</td>\n",
              "      <td>4.0</td>\n",
              "      <td>1</td>\n",
              "    </tr>\n",
              "    <tr>\n",
              "      <th>2648</th>\n",
              "      <td>Verified Review</td>\n",
              "      <td>Couple Leisure</td>\n",
              "      <td>Business Class</td>\n",
              "      <td>Gatwick to Barbados</td>\n",
              "      <td>NaN</td>\n",
              "      <td>3.0</td>\n",
              "      <td>4.0</td>\n",
              "      <td>3.0</td>\n",
              "      <td>4.0</td>\n",
              "      <td>NaN</td>\n",
              "      <td>NaN</td>\n",
              "      <td>3</td>\n",
              "      <td>no</td>\n",
              "      <td>5.0</td>\n",
              "      <td>1</td>\n",
              "    </tr>\n",
              "    <tr>\n",
              "      <th>2649</th>\n",
              "      <td>Verified Review</td>\n",
              "      <td>Business</td>\n",
              "      <td>Business Class</td>\n",
              "      <td>Kiev to London</td>\n",
              "      <td>NaN</td>\n",
              "      <td>3.0</td>\n",
              "      <td>5.0</td>\n",
              "      <td>NaN</td>\n",
              "      <td>4.0</td>\n",
              "      <td>1.0</td>\n",
              "      <td>NaN</td>\n",
              "      <td>4</td>\n",
              "      <td>yes</td>\n",
              "      <td>8.0</td>\n",
              "      <td>1</td>\n",
              "    </tr>\n",
              "    <tr>\n",
              "      <th>2650</th>\n",
              "      <td>Verified Review</td>\n",
              "      <td>Family Leisure</td>\n",
              "      <td>Economy Class</td>\n",
              "      <td>NaN</td>\n",
              "      <td>NaN</td>\n",
              "      <td>3.0</td>\n",
              "      <td>5.0</td>\n",
              "      <td>5.0</td>\n",
              "      <td>5.0</td>\n",
              "      <td>NaN</td>\n",
              "      <td>NaN</td>\n",
              "      <td>4</td>\n",
              "      <td>yes</td>\n",
              "      <td>8.0</td>\n",
              "      <td>1</td>\n",
              "    </tr>\n",
              "  </tbody>\n",
              "</table>\n",
              "</div>\n",
              "    <div class=\"colab-df-buttons\">\n",
              "\n",
              "  <div class=\"colab-df-container\">\n",
              "    <button class=\"colab-df-convert\" onclick=\"convertToInteractive('df-f12c42ac-75ed-43a3-9ce3-c12d4984592f')\"\n",
              "            title=\"Convert this dataframe to an interactive table.\"\n",
              "            style=\"display:none;\">\n",
              "\n",
              "  <svg xmlns=\"http://www.w3.org/2000/svg\" height=\"24px\" viewBox=\"0 -960 960 960\">\n",
              "    <path d=\"M120-120v-720h720v720H120Zm60-500h600v-160H180v160Zm220 220h160v-160H400v160Zm0 220h160v-160H400v160ZM180-400h160v-160H180v160Zm440 0h160v-160H620v160ZM180-180h160v-160H180v160Zm440 0h160v-160H620v160Z\"/>\n",
              "  </svg>\n",
              "    </button>\n",
              "\n",
              "  <style>\n",
              "    .colab-df-container {\n",
              "      display:flex;\n",
              "      gap: 12px;\n",
              "    }\n",
              "\n",
              "    .colab-df-convert {\n",
              "      background-color: #E8F0FE;\n",
              "      border: none;\n",
              "      border-radius: 50%;\n",
              "      cursor: pointer;\n",
              "      display: none;\n",
              "      fill: #1967D2;\n",
              "      height: 32px;\n",
              "      padding: 0 0 0 0;\n",
              "      width: 32px;\n",
              "    }\n",
              "\n",
              "    .colab-df-convert:hover {\n",
              "      background-color: #E2EBFA;\n",
              "      box-shadow: 0px 1px 2px rgba(60, 64, 67, 0.3), 0px 1px 3px 1px rgba(60, 64, 67, 0.15);\n",
              "      fill: #174EA6;\n",
              "    }\n",
              "\n",
              "    .colab-df-buttons div {\n",
              "      margin-bottom: 4px;\n",
              "    }\n",
              "\n",
              "    [theme=dark] .colab-df-convert {\n",
              "      background-color: #3B4455;\n",
              "      fill: #D2E3FC;\n",
              "    }\n",
              "\n",
              "    [theme=dark] .colab-df-convert:hover {\n",
              "      background-color: #434B5C;\n",
              "      box-shadow: 0px 1px 3px 1px rgba(0, 0, 0, 0.15);\n",
              "      filter: drop-shadow(0px 1px 2px rgba(0, 0, 0, 0.3));\n",
              "      fill: #FFFFFF;\n",
              "    }\n",
              "  </style>\n",
              "\n",
              "    <script>\n",
              "      const buttonEl =\n",
              "        document.querySelector('#df-f12c42ac-75ed-43a3-9ce3-c12d4984592f button.colab-df-convert');\n",
              "      buttonEl.style.display =\n",
              "        google.colab.kernel.accessAllowed ? 'block' : 'none';\n",
              "\n",
              "      async function convertToInteractive(key) {\n",
              "        const element = document.querySelector('#df-f12c42ac-75ed-43a3-9ce3-c12d4984592f');\n",
              "        const dataTable =\n",
              "          await google.colab.kernel.invokeFunction('convertToInteractive',\n",
              "                                                    [key], {});\n",
              "        if (!dataTable) return;\n",
              "\n",
              "        const docLinkHtml = 'Like what you see? Visit the ' +\n",
              "          '<a target=\"_blank\" href=https://colab.research.google.com/notebooks/data_table.ipynb>data table notebook</a>'\n",
              "          + ' to learn more about interactive tables.';\n",
              "        element.innerHTML = '';\n",
              "        dataTable['output_type'] = 'display_data';\n",
              "        await google.colab.output.renderOutput(dataTable, element);\n",
              "        const docLink = document.createElement('div');\n",
              "        docLink.innerHTML = docLinkHtml;\n",
              "        element.appendChild(docLink);\n",
              "      }\n",
              "    </script>\n",
              "  </div>\n",
              "\n",
              "\n",
              "<div id=\"df-f98c3398-e542-4a77-83d3-e1590bc0732b\">\n",
              "  <button class=\"colab-df-quickchart\" onclick=\"quickchart('df-f98c3398-e542-4a77-83d3-e1590bc0732b')\"\n",
              "            title=\"Suggest charts\"\n",
              "            style=\"display:none;\">\n",
              "\n",
              "<svg xmlns=\"http://www.w3.org/2000/svg\" height=\"24px\"viewBox=\"0 0 24 24\"\n",
              "     width=\"24px\">\n",
              "    <g>\n",
              "        <path d=\"M19 3H5c-1.1 0-2 .9-2 2v14c0 1.1.9 2 2 2h14c1.1 0 2-.9 2-2V5c0-1.1-.9-2-2-2zM9 17H7v-7h2v7zm4 0h-2V7h2v10zm4 0h-2v-4h2v4z\"/>\n",
              "    </g>\n",
              "</svg>\n",
              "  </button>\n",
              "\n",
              "<style>\n",
              "  .colab-df-quickchart {\n",
              "      --bg-color: #E8F0FE;\n",
              "      --fill-color: #1967D2;\n",
              "      --hover-bg-color: #E2EBFA;\n",
              "      --hover-fill-color: #174EA6;\n",
              "      --disabled-fill-color: #AAA;\n",
              "      --disabled-bg-color: #DDD;\n",
              "  }\n",
              "\n",
              "  [theme=dark] .colab-df-quickchart {\n",
              "      --bg-color: #3B4455;\n",
              "      --fill-color: #D2E3FC;\n",
              "      --hover-bg-color: #434B5C;\n",
              "      --hover-fill-color: #FFFFFF;\n",
              "      --disabled-bg-color: #3B4455;\n",
              "      --disabled-fill-color: #666;\n",
              "  }\n",
              "\n",
              "  .colab-df-quickchart {\n",
              "    background-color: var(--bg-color);\n",
              "    border: none;\n",
              "    border-radius: 50%;\n",
              "    cursor: pointer;\n",
              "    display: none;\n",
              "    fill: var(--fill-color);\n",
              "    height: 32px;\n",
              "    padding: 0;\n",
              "    width: 32px;\n",
              "  }\n",
              "\n",
              "  .colab-df-quickchart:hover {\n",
              "    background-color: var(--hover-bg-color);\n",
              "    box-shadow: 0 1px 2px rgba(60, 64, 67, 0.3), 0 1px 3px 1px rgba(60, 64, 67, 0.15);\n",
              "    fill: var(--button-hover-fill-color);\n",
              "  }\n",
              "\n",
              "  .colab-df-quickchart-complete:disabled,\n",
              "  .colab-df-quickchart-complete:disabled:hover {\n",
              "    background-color: var(--disabled-bg-color);\n",
              "    fill: var(--disabled-fill-color);\n",
              "    box-shadow: none;\n",
              "  }\n",
              "\n",
              "  .colab-df-spinner {\n",
              "    border: 2px solid var(--fill-color);\n",
              "    border-color: transparent;\n",
              "    border-bottom-color: var(--fill-color);\n",
              "    animation:\n",
              "      spin 1s steps(1) infinite;\n",
              "  }\n",
              "\n",
              "  @keyframes spin {\n",
              "    0% {\n",
              "      border-color: transparent;\n",
              "      border-bottom-color: var(--fill-color);\n",
              "      border-left-color: var(--fill-color);\n",
              "    }\n",
              "    20% {\n",
              "      border-color: transparent;\n",
              "      border-left-color: var(--fill-color);\n",
              "      border-top-color: var(--fill-color);\n",
              "    }\n",
              "    30% {\n",
              "      border-color: transparent;\n",
              "      border-left-color: var(--fill-color);\n",
              "      border-top-color: var(--fill-color);\n",
              "      border-right-color: var(--fill-color);\n",
              "    }\n",
              "    40% {\n",
              "      border-color: transparent;\n",
              "      border-right-color: var(--fill-color);\n",
              "      border-top-color: var(--fill-color);\n",
              "    }\n",
              "    60% {\n",
              "      border-color: transparent;\n",
              "      border-right-color: var(--fill-color);\n",
              "    }\n",
              "    80% {\n",
              "      border-color: transparent;\n",
              "      border-right-color: var(--fill-color);\n",
              "      border-bottom-color: var(--fill-color);\n",
              "    }\n",
              "    90% {\n",
              "      border-color: transparent;\n",
              "      border-bottom-color: var(--fill-color);\n",
              "    }\n",
              "  }\n",
              "</style>\n",
              "\n",
              "  <script>\n",
              "    async function quickchart(key) {\n",
              "      const quickchartButtonEl =\n",
              "        document.querySelector('#' + key + ' button');\n",
              "      quickchartButtonEl.disabled = true;  // To prevent multiple clicks.\n",
              "      quickchartButtonEl.classList.add('colab-df-spinner');\n",
              "      try {\n",
              "        const charts = await google.colab.kernel.invokeFunction(\n",
              "            'suggestCharts', [key], {});\n",
              "      } catch (error) {\n",
              "        console.error('Error during call to suggestCharts:', error);\n",
              "      }\n",
              "      quickchartButtonEl.classList.remove('colab-df-spinner');\n",
              "      quickchartButtonEl.classList.add('colab-df-quickchart-complete');\n",
              "    }\n",
              "    (() => {\n",
              "      let quickchartButtonEl =\n",
              "        document.querySelector('#df-f98c3398-e542-4a77-83d3-e1590bc0732b button');\n",
              "      quickchartButtonEl.style.display =\n",
              "        google.colab.kernel.accessAllowed ? 'block' : 'none';\n",
              "    })();\n",
              "  </script>\n",
              "</div>\n",
              "\n",
              "    </div>\n",
              "  </div>\n"
            ],
            "application/vnd.google.colaboratory.intrinsic+json": {
              "type": "dataframe",
              "variable_name": "nan_date",
              "repr_error": "0"
            }
          },
          "metadata": {},
          "execution_count": 26
        }
      ]
    },
    {
      "cell_type": "code",
      "source": [
        "#delete the row that contains NaN in date columns\n",
        "er = er.dropna(subset=['date'])\n",
        "\n",
        "# Reset the index of the cleaned DataFrame\n",
        "er = er.reset_index(drop=True)"
      ],
      "metadata": {
        "id": "RLiZnlLE3QSS"
      },
      "execution_count": null,
      "outputs": []
    },
    {
      "cell_type": "code",
      "source": [
        "er['date'].isna().sum()"
      ],
      "metadata": {
        "id": "xpU05uGg6SXg",
        "colab": {
          "base_uri": "https://localhost:8080/"
        },
        "outputId": "58b6db41-fa35-4b39-9e37-8f3667a4de0e"
      },
      "execution_count": null,
      "outputs": [
        {
          "output_type": "execute_result",
          "data": {
            "text/plain": [
              "0"
            ]
          },
          "metadata": {},
          "execution_count": 28
        }
      ]
    },
    {
      "cell_type": "code",
      "source": [
        "#konversi date ke datetime\n",
        "er['date'] = pd.to_datetime(er['date'])"
      ],
      "metadata": {
        "id": "MnsNXDuiSmDz",
        "colab": {
          "base_uri": "https://localhost:8080/"
        },
        "outputId": "5e8ad99b-33ef-4468-93f8-741285824802"
      },
      "execution_count": null,
      "outputs": [
        {
          "output_type": "stream",
          "name": "stderr",
          "text": [
            "<ipython-input-29-eddd575391af>:2: UserWarning: Could not infer format, so each element will be parsed individually, falling back to `dateutil`. To ensure parsing is consistent and as-expected, please specify a format.\n",
            "  er['date'] = pd.to_datetime(er['date'])\n"
          ]
        }
      ]
    },
    {
      "cell_type": "code",
      "source": [
        "min = er['date'].min()\n",
        "max = er['date'].max()\n",
        "\n",
        "print('Min: ',min)\n",
        "print('Max: ',max)"
      ],
      "metadata": {
        "id": "tzTaLERhZbZZ",
        "colab": {
          "base_uri": "https://localhost:8080/"
        },
        "outputId": "c36ad201-6290-42a9-a7a9-ed953bef4e25"
      },
      "execution_count": null,
      "outputs": [
        {
          "output_type": "stream",
          "name": "stdout",
          "text": [
            "Min:  2014-07-01 00:00:00\n",
            "Max:  2022-11-01 00:00:00\n"
          ]
        }
      ]
    },
    {
      "cell_type": "markdown",
      "source": [
        "### Handling Missing Value di kolom lain"
      ],
      "metadata": {
        "id": "xgkSPZuhf1qj"
      }
    },
    {
      "cell_type": "markdown",
      "source": [
        "#### handling missing value di kolom travel_type, class, dan route"
      ],
      "metadata": {
        "id": "W4F0qKxUUSbp"
      }
    },
    {
      "cell_type": "code",
      "source": [
        "er['travel_type'].unique()"
      ],
      "metadata": {
        "colab": {
          "base_uri": "https://localhost:8080/"
        },
        "id": "evIkCwg0UeZA",
        "outputId": "784e7bb4-95cf-4308-e18f-37f3ff609be1"
      },
      "execution_count": null,
      "outputs": [
        {
          "output_type": "execute_result",
          "data": {
            "text/plain": [
              "array(['Solo Leisure', 'Couple Leisure', 'Family Leisure', 'Business',\n",
              "       nan], dtype=object)"
            ]
          },
          "metadata": {},
          "execution_count": 31
        }
      ]
    },
    {
      "cell_type": "code",
      "source": [
        "er['travel_class'].unique()"
      ],
      "metadata": {
        "colab": {
          "base_uri": "https://localhost:8080/"
        },
        "id": "Jnowlx5HU_iy",
        "outputId": "64f8d88e-339b-49d9-97ba-86f41033257d"
      },
      "execution_count": null,
      "outputs": [
        {
          "output_type": "execute_result",
          "data": {
            "text/plain": [
              "array(['Business Class', 'Economy Class', 'Premium Economy',\n",
              "       'First Class', nan], dtype=object)"
            ]
          },
          "metadata": {},
          "execution_count": 32
        }
      ]
    },
    {
      "cell_type": "code",
      "source": [
        "er['route'].unique()"
      ],
      "metadata": {
        "colab": {
          "base_uri": "https://localhost:8080/"
        },
        "id": "1JUlAXJGVEPJ",
        "outputId": "f55ed2a5-b6ea-4a66-8196-4f212c09ec4b"
      },
      "execution_count": null,
      "outputs": [
        {
          "output_type": "execute_result",
          "data": {
            "text/plain": [
              "array(['London to Lisbon', 'Montreal to Edinburgh via London Heathrow',\n",
              "       'Miami to Budapest via London', ..., 'ORD-LHR', 'LHR-GLA',\n",
              "       'GLA-LHR'], dtype=object)"
            ]
          },
          "metadata": {},
          "execution_count": 33
        }
      ]
    },
    {
      "cell_type": "code",
      "source": [
        "#membuat variabel yang berisi 3 kolom\n",
        "travel_route = ['travel_type', 'travel_class', 'route']\n",
        "#menghapus missing value kolom di variabel travel_route\n",
        "er = er.dropna(subset=travel_route)"
      ],
      "metadata": {
        "id": "ukIrx4i4VK46"
      },
      "execution_count": null,
      "outputs": []
    },
    {
      "cell_type": "code",
      "source": [
        "er.isnull().sum()"
      ],
      "metadata": {
        "colab": {
          "base_uri": "https://localhost:8080/"
        },
        "id": "wz2YhXLUVXY2",
        "outputId": "78b6cfb5-d528-4a50-afc0-3b1a62321402"
      },
      "execution_count": null,
      "outputs": [
        {
          "output_type": "execute_result",
          "data": {
            "text/plain": [
              "status                0\n",
              "travel_type           0\n",
              "travel_class          0\n",
              "route                 0\n",
              "date                  0\n",
              "seating_comfort      95\n",
              "staff_service       102\n",
              "food_quality        326\n",
              "entertainment      1007\n",
              "wifi               2138\n",
              "ground_service       57\n",
              "value_for_money       0\n",
              "recommended           0\n",
              "overall_rating        0\n",
              "status_num            0\n",
              "dtype: int64"
            ]
          },
          "metadata": {},
          "execution_count": 35
        }
      ]
    },
    {
      "cell_type": "markdown",
      "source": [
        "#### Handling missing value di kolom seating_comfort hingga ground_service"
      ],
      "metadata": {
        "id": "2rGKyjCnMGpl"
      }
    },
    {
      "cell_type": "code",
      "source": [
        "#membuat variable columns_to_check\n",
        "columns_to_check = ['seating_comfort', 'staff_service', 'food_quality', 'entertainment', 'wifi', 'ground_service']\n",
        "\n",
        "#isi nan value di columns_to_check dengan angka 0\n",
        "er[columns_to_check] = er[columns_to_check].fillna(0)"
      ],
      "metadata": {
        "id": "8OinsRjOh2kA"
      },
      "execution_count": null,
      "outputs": []
    },
    {
      "cell_type": "code",
      "source": [
        "#check missing value\n",
        "er.isnull().sum()"
      ],
      "metadata": {
        "colab": {
          "base_uri": "https://localhost:8080/"
        },
        "id": "z0CO8FyAFujv",
        "outputId": "2c078baa-ef78-4c07-b5c2-1a1a9a6c2959"
      },
      "execution_count": null,
      "outputs": [
        {
          "output_type": "execute_result",
          "data": {
            "text/plain": [
              "status             0\n",
              "travel_type        0\n",
              "travel_class       0\n",
              "route              0\n",
              "date               0\n",
              "seating_comfort    0\n",
              "staff_service      0\n",
              "food_quality       0\n",
              "entertainment      0\n",
              "wifi               0\n",
              "ground_service     0\n",
              "value_for_money    0\n",
              "recommended        0\n",
              "overall_rating     0\n",
              "status_num         0\n",
              "dtype: int64"
            ]
          },
          "metadata": {},
          "execution_count": 37
        }
      ]
    },
    {
      "cell_type": "markdown",
      "source": [
        "### Booking_complete\n",
        "Membuat fitur baru booking complete dimana 1 untuk complete dan 0 untuk fail berdasarkan parameter kolom 'seating_comfort', 'staff_service', 'food_quality', 'entertainment', 'wifi', 'ground_service'"
      ],
      "metadata": {
        "id": "n5M3kenuMzth"
      }
    },
    {
      "cell_type": "code",
      "source": [
        "#parameter variabel\n",
        "booking_parameter = ['seating_comfort', 'staff_service', 'food_quality', 'entertainment', 'wifi', 'ground_service']\n",
        "\n",
        "# Menghapus baris dengan nilai booking_parameter 0 dan overall_rating di bawah 5\n",
        "condition_to_drop = (er[booking_parameter] == 0).all(axis=1) & (er['overall_rating'] >= 5)\n",
        "condition_to_drop.sum()"
      ],
      "metadata": {
        "colab": {
          "base_uri": "https://localhost:8080/"
        },
        "id": "2GUwq7Y6IIvJ",
        "outputId": "8703e5b1-18c4-466c-cf91-454ec8a92677"
      },
      "execution_count": null,
      "outputs": [
        {
          "output_type": "execute_result",
          "data": {
            "text/plain": [
              "1"
            ]
          },
          "metadata": {},
          "execution_count": 38
        }
      ]
    },
    {
      "cell_type": "code",
      "source": [
        "#drop data yang sesuai di kondisi variabel condition_to_drop\n",
        "er = er.drop(er[condition_to_drop].index)"
      ],
      "metadata": {
        "id": "XubSNtxFZyS9"
      },
      "execution_count": null,
      "outputs": []
    },
    {
      "cell_type": "code",
      "source": [
        "#membuat booking_fail yang berisi booking_parameter bernilai 0\n",
        "booking_fail = er[er[booking_parameter].eq(0).all(axis=1)]\n",
        "\n",
        "#melihat jumlah baris dan kolom\n",
        "booking_fail.shape"
      ],
      "metadata": {
        "colab": {
          "base_uri": "https://localhost:8080/"
        },
        "id": "f7EQCPYIau91",
        "outputId": "756c3ad3-3a60-4024-d85c-62dc890db2bf"
      },
      "execution_count": null,
      "outputs": [
        {
          "output_type": "execute_result",
          "data": {
            "text/plain": [
              "(52, 15)"
            ]
          },
          "metadata": {},
          "execution_count": 40
        }
      ]
    },
    {
      "cell_type": "code",
      "source": [
        "# Membuat kolom baru booking_complete dimana 1 berarti complete dan 0 untuk kondisi di booking_fail\n",
        "er['booking_complete'] = np.where(er.index.isin(booking_fail.index), 0, 1)"
      ],
      "metadata": {
        "id": "s_8t6WIWbzab"
      },
      "execution_count": null,
      "outputs": []
    },
    {
      "cell_type": "code",
      "source": [
        "#menghitung value di booking_complete\n",
        "print(er['booking_complete'].value_counts())"
      ],
      "metadata": {
        "colab": {
          "base_uri": "https://localhost:8080/"
        },
        "id": "KftMCHHMcPdk",
        "outputId": "8d85bb1c-9c93-4767-f305-b31d5fc8f91e"
      },
      "execution_count": null,
      "outputs": [
        {
          "output_type": "stream",
          "name": "stdout",
          "text": [
            "booking_complete\n",
            "1    2586\n",
            "0      52\n",
            "Name: count, dtype: int64\n"
          ]
        }
      ]
    },
    {
      "cell_type": "code",
      "source": [
        "#reset index\n",
        "er = er.reset_index(drop=True)"
      ],
      "metadata": {
        "id": "rdcZrmZQc98E"
      },
      "execution_count": null,
      "outputs": []
    },
    {
      "cell_type": "markdown",
      "source": [
        "## Jumlah Pengguna Aktif\n",
        "Menunjukkan seberapa banyak pengguna yang menggunakan website secara\n",
        "rutin.\n"
      ],
      "metadata": {
        "id": "7UOzkfVeCAGR"
      }
    },
    {
      "cell_type": "code",
      "source": [
        "# menghitung jumlah yes dan no pada kolom recommended\n",
        "recommend = er['recommended'].value_counts()\n",
        "\n",
        "recommend.plot(kind='bar')\n",
        "plt.title('status count')\n",
        "plt.ylabel('count')\n",
        "plt.xlabel('status')\n",
        "plt.show()"
      ],
      "metadata": {
        "id": "xXADiqakCM3O",
        "colab": {
          "base_uri": "https://localhost:8080/",
          "height": 482
        },
        "outputId": "77d59359-56cd-48ef-a300-f47dd3946b83"
      },
      "execution_count": null,
      "outputs": [
        {
          "output_type": "display_data",
          "data": {
            "text/plain": [
              "<Figure size 640x480 with 1 Axes>"
            ],
            "image/png": "[encoded data removed]"
          },
          "metadata": {}
        }
      ]
    },
    {
      "cell_type": "code",
      "source": [
        "#menghitung jumlah pengguna rutin berdasarkan recommended yes\n",
        "\n",
        "#merubah value recommended 0 dan 1\n",
        "er['recommended_num'] = er['recommended'].replace({'no' : 0, 'yes' : 1})\n",
        "\n",
        "#filter recommended yes\n",
        "filtered_er = er[er['recommended_num'] == 1]\n",
        "\n",
        "# Menghitung jumlah baris per tanggal\n",
        "date_counts = filtered_er.groupby('date').size()\n",
        "\n",
        "# Membuat grafik garis\n",
        "plt.figure(figsize=(10, 6))\n",
        "plt.plot(date_counts.index, date_counts.values, linestyle='-', color='b')\n",
        "plt.title('Jumlah Pengguna Aktif')\n",
        "plt.xlabel('Date')\n",
        "plt.ylabel('Jumlah Pengguna Aktif')\n",
        "plt.grid(True)\n",
        "plt.xticks(rotation=45)\n",
        "plt.tight_layout()\n",
        "\n",
        "# Menampilkan grafik\n",
        "plt.show()"
      ],
      "metadata": {
        "id": "pfm3GieKCgbC",
        "colab": {
          "base_uri": "https://localhost:8080/",
          "height": 607
        },
        "outputId": "6e94917f-dbf9-4be2-a34b-ebd74d00c619"
      },
      "execution_count": null,
      "outputs": [
        {
          "output_type": "display_data",
          "data": {
            "text/plain": [
              "<Figure size 1000x600 with 1 Axes>"
            ],
            "image/png": "[encoded data removed]"
          },
          "metadata": {}
        }
      ]
    },
    {
      "cell_type": "code",
      "source": [
        "er.head()"
      ],
      "metadata": {
        "colab": {
          "base_uri": "https://localhost:8080/",
          "height": 469
        },
        "id": "x852Efr0EorF",
        "outputId": "d743c06f-85f9-41f0-db99-c04b5893d811"
      },
      "execution_count": null,
      "outputs": [
        {
          "output_type": "execute_result",
          "data": {
            "text/plain": [
              "          status   travel_type     travel_class  \\\n",
              "0  Trip Verified  Solo Leisure   Business Class   \n",
              "1  Trip Verified  Solo Leisure    Economy Class   \n",
              "2  Trip Verified  Solo Leisure    Economy Class   \n",
              "3  Trip Verified  Solo Leisure  Premium Economy   \n",
              "4  Trip Verified  Solo Leisure    Economy Class   \n",
              "\n",
              "                                       route       date  seating_comfort  \\\n",
              "0                           London to Lisbon 2022-11-01              3.0   \n",
              "1  Montreal to Edinburgh via London Heathrow 2022-01-01              4.0   \n",
              "2               Miami to Budapest via London 2022-11-01              2.0   \n",
              "3       Amman Jordan to London UK (Heathrow) 2022-11-01              3.0   \n",
              "4       Dusseldorf to London via Los Angeles 2022-08-01              1.0   \n",
              "\n",
              "   staff_service  food_quality  entertainment  wifi  ground_service  \\\n",
              "0            4.0           4.0            0.0   0.0             3.0   \n",
              "1            4.0           4.0            4.0   0.0             4.0   \n",
              "2            3.0           3.0            4.0   0.0             1.0   \n",
              "3            2.0           1.0            0.0   0.0             4.0   \n",
              "4            1.0           1.0            1.0   1.0             1.0   \n",
              "\n",
              "   value_for_money recommended  overall_rating  status_num  booking_complete  \\\n",
              "0                3         yes             7.0           2                 1   \n",
              "1                4         yes             7.0           2                 1   \n",
              "2                1          no             1.0           2                 1   \n",
              "3                2          no             4.0           2                 1   \n",
              "4                1          no             1.0           2                 1   \n",
              "\n",
              "   recommended_num  \n",
              "0                1  \n",
              "1                1  \n",
              "2                0  \n",
              "3                0  \n",
              "4                0  "
            ],
            "text/html": [
              "\n",
              "  <div id=\"df-a0a23548-b008-4779-943b-6a952fb0379d\" class=\"colab-df-container\">\n",
              "    <div>\n",
              "<style scoped>\n",
              "    .dataframe tbody tr th:only-of-type {\n",
              "        vertical-align: middle;\n",
              "    }\n",
              "\n",
              "    .dataframe tbody tr th {\n",
              "        vertical-align: top;\n",
              "    }\n",
              "\n",
              "    .dataframe thead th {\n",
              "        text-align: right;\n",
              "    }\n",
              "</style>\n",
              "<table border=\"1\" class=\"dataframe\">\n",
              "  <thead>\n",
              "    <tr style=\"text-align: right;\">\n",
              "      <th></th>\n",
              "      <th>status</th>\n",
              "      <th>travel_type</th>\n",
              "      <th>travel_class</th>\n",
              "      <th>route</th>\n",
              "      <th>date</th>\n",
              "      <th>seating_comfort</th>\n",
              "      <th>staff_service</th>\n",
              "      <th>food_quality</th>\n",
              "      <th>entertainment</th>\n",
              "      <th>wifi</th>\n",
              "      <th>ground_service</th>\n",
              "      <th>value_for_money</th>\n",
              "      <th>recommended</th>\n",
              "      <th>overall_rating</th>\n",
              "      <th>status_num</th>\n",
              "      <th>booking_complete</th>\n",
              "      <th>recommended_num</th>\n",
              "    </tr>\n",
              "  </thead>\n",
              "  <tbody>\n",
              "    <tr>\n",
              "      <th>0</th>\n",
              "      <td>Trip Verified</td>\n",
              "      <td>Solo Leisure</td>\n",
              "      <td>Business Class</td>\n",
              "      <td>London to Lisbon</td>\n",
              "      <td>2022-11-01</td>\n",
              "      <td>3.0</td>\n",
              "      <td>4.0</td>\n",
              "      <td>4.0</td>\n",
              "      <td>0.0</td>\n",
              "      <td>0.0</td>\n",
              "      <td>3.0</td>\n",
              "      <td>3</td>\n",
              "      <td>yes</td>\n",
              "      <td>7.0</td>\n",
              "      <td>2</td>\n",
              "      <td>1</td>\n",
              "      <td>1</td>\n",
              "    </tr>\n",
              "    <tr>\n",
              "      <th>1</th>\n",
              "      <td>Trip Verified</td>\n",
              "      <td>Solo Leisure</td>\n",
              "      <td>Economy Class</td>\n",
              "      <td>Montreal to Edinburgh via London Heathrow</td>\n",
              "      <td>2022-01-01</td>\n",
              "      <td>4.0</td>\n",
              "      <td>4.0</td>\n",
              "      <td>4.0</td>\n",
              "      <td>4.0</td>\n",
              "      <td>0.0</td>\n",
              "      <td>4.0</td>\n",
              "      <td>4</td>\n",
              "      <td>yes</td>\n",
              "      <td>7.0</td>\n",
              "      <td>2</td>\n",
              "      <td>1</td>\n",
              "      <td>1</td>\n",
              "    </tr>\n",
              "    <tr>\n",
              "      <th>2</th>\n",
              "      <td>Trip Verified</td>\n",
              "      <td>Solo Leisure</td>\n",
              "      <td>Economy Class</td>\n",
              "      <td>Miami to Budapest via London</td>\n",
              "      <td>2022-11-01</td>\n",
              "      <td>2.0</td>\n",
              "      <td>3.0</td>\n",
              "      <td>3.0</td>\n",
              "      <td>4.0</td>\n",
              "      <td>0.0</td>\n",
              "      <td>1.0</td>\n",
              "      <td>1</td>\n",
              "      <td>no</td>\n",
              "      <td>1.0</td>\n",
              "      <td>2</td>\n",
              "      <td>1</td>\n",
              "      <td>0</td>\n",
              "    </tr>\n",
              "    <tr>\n",
              "      <th>3</th>\n",
              "      <td>Trip Verified</td>\n",
              "      <td>Solo Leisure</td>\n",
              "      <td>Premium Economy</td>\n",
              "      <td>Amman Jordan to London UK (Heathrow)</td>\n",
              "      <td>2022-11-01</td>\n",
              "      <td>3.0</td>\n",
              "      <td>2.0</td>\n",
              "      <td>1.0</td>\n",
              "      <td>0.0</td>\n",
              "      <td>0.0</td>\n",
              "      <td>4.0</td>\n",
              "      <td>2</td>\n",
              "      <td>no</td>\n",
              "      <td>4.0</td>\n",
              "      <td>2</td>\n",
              "      <td>1</td>\n",
              "      <td>0</td>\n",
              "    </tr>\n",
              "    <tr>\n",
              "      <th>4</th>\n",
              "      <td>Trip Verified</td>\n",
              "      <td>Solo Leisure</td>\n",
              "      <td>Economy Class</td>\n",
              "      <td>Dusseldorf to London via Los Angeles</td>\n",
              "      <td>2022-08-01</td>\n",
              "      <td>1.0</td>\n",
              "      <td>1.0</td>\n",
              "      <td>1.0</td>\n",
              "      <td>1.0</td>\n",
              "      <td>1.0</td>\n",
              "      <td>1.0</td>\n",
              "      <td>1</td>\n",
              "      <td>no</td>\n",
              "      <td>1.0</td>\n",
              "      <td>2</td>\n",
              "      <td>1</td>\n",
              "      <td>0</td>\n",
              "    </tr>\n",
              "  </tbody>\n",
              "</table>\n",
              "</div>\n",
              "    <div class=\"colab-df-buttons\">\n",
              "\n",
              "  <div class=\"colab-df-container\">\n",
              "    <button class=\"colab-df-convert\" onclick=\"convertToInteractive('df-a0a23548-b008-4779-943b-6a952fb0379d')\"\n",
              "            title=\"Convert this dataframe to an interactive table.\"\n",
              "            style=\"display:none;\">\n",
              "\n",
              "  <svg xmlns=\"http://www.w3.org/2000/svg\" height=\"24px\" viewBox=\"0 -960 960 960\">\n",
              "    <path d=\"M120-120v-720h720v720H120Zm60-500h600v-160H180v160Zm220 220h160v-160H400v160Zm0 220h160v-160H400v160ZM180-400h160v-160H180v160Zm440 0h160v-160H620v160ZM180-180h160v-160H180v160Zm440 0h160v-160H620v160Z\"/>\n",
              "  </svg>\n",
              "    </button>\n",
              "\n",
              "  <style>\n",
              "    .colab-df-container {\n",
              "      display:flex;\n",
              "      gap: 12px;\n",
              "    }\n",
              "\n",
              "    .colab-df-convert {\n",
              "      background-color: #E8F0FE;\n",
              "      border: none;\n",
              "      border-radius: 50%;\n",
              "      cursor: pointer;\n",
              "      display: none;\n",
              "      fill: #1967D2;\n",
              "      height: 32px;\n",
              "      padding: 0 0 0 0;\n",
              "      width: 32px;\n",
              "    }\n",
              "\n",
              "    .colab-df-convert:hover {\n",
              "      background-color: #E2EBFA;\n",
              "      box-shadow: 0px 1px 2px rgba(60, 64, 67, 0.3), 0px 1px 3px 1px rgba(60, 64, 67, 0.15);\n",
              "      fill: #174EA6;\n",
              "    }\n",
              "\n",
              "    .colab-df-buttons div {\n",
              "      margin-bottom: 4px;\n",
              "    }\n",
              "\n",
              "    [theme=dark] .colab-df-convert {\n",
              "      background-color: #3B4455;\n",
              "      fill: #D2E3FC;\n",
              "    }\n",
              "\n",
              "    [theme=dark] .colab-df-convert:hover {\n",
              "      background-color: #434B5C;\n",
              "      box-shadow: 0px 1px 3px 1px rgba(0, 0, 0, 0.15);\n",
              "      filter: drop-shadow(0px 1px 2px rgba(0, 0, 0, 0.3));\n",
              "      fill: #FFFFFF;\n",
              "    }\n",
              "  </style>\n",
              "\n",
              "    <script>\n",
              "      const buttonEl =\n",
              "        document.querySelector('#df-a0a23548-b008-4779-943b-6a952fb0379d button.colab-df-convert');\n",
              "      buttonEl.style.display =\n",
              "        google.colab.kernel.accessAllowed ? 'block' : 'none';\n",
              "\n",
              "      async function convertToInteractive(key) {\n",
              "        const element = document.querySelector('#df-a0a23548-b008-4779-943b-6a952fb0379d');\n",
              "        const dataTable =\n",
              "          await google.colab.kernel.invokeFunction('convertToInteractive',\n",
              "                                                    [key], {});\n",
              "        if (!dataTable) return;\n",
              "\n",
              "        const docLinkHtml = 'Like what you see? Visit the ' +\n",
              "          '<a target=\"_blank\" href=https://colab.research.google.com/notebooks/data_table.ipynb>data table notebook</a>'\n",
              "          + ' to learn more about interactive tables.';\n",
              "        element.innerHTML = '';\n",
              "        dataTable['output_type'] = 'display_data';\n",
              "        await google.colab.output.renderOutput(dataTable, element);\n",
              "        const docLink = document.createElement('div');\n",
              "        docLink.innerHTML = docLinkHtml;\n",
              "        element.appendChild(docLink);\n",
              "      }\n",
              "    </script>\n",
              "  </div>\n",
              "\n",
              "\n",
              "<div id=\"df-5f92781f-7fea-4e65-9465-b45a4c34eb65\">\n",
              "  <button class=\"colab-df-quickchart\" onclick=\"quickchart('df-5f92781f-7fea-4e65-9465-b45a4c34eb65')\"\n",
              "            title=\"Suggest charts\"\n",
              "            style=\"display:none;\">\n",
              "\n",
              "<svg xmlns=\"http://www.w3.org/2000/svg\" height=\"24px\"viewBox=\"0 0 24 24\"\n",
              "     width=\"24px\">\n",
              "    <g>\n",
              "        <path d=\"M19 3H5c-1.1 0-2 .9-2 2v14c0 1.1.9 2 2 2h14c1.1 0 2-.9 2-2V5c0-1.1-.9-2-2-2zM9 17H7v-7h2v7zm4 0h-2V7h2v10zm4 0h-2v-4h2v4z\"/>\n",
              "    </g>\n",
              "</svg>\n",
              "  </button>\n",
              "\n",
              "<style>\n",
              "  .colab-df-quickchart {\n",
              "      --bg-color: #E8F0FE;\n",
              "      --fill-color: #1967D2;\n",
              "      --hover-bg-color: #E2EBFA;\n",
              "      --hover-fill-color: #174EA6;\n",
              "      --disabled-fill-color: #AAA;\n",
              "      --disabled-bg-color: #DDD;\n",
              "  }\n",
              "\n",
              "  [theme=dark] .colab-df-quickchart {\n",
              "      --bg-color: #3B4455;\n",
              "      --fill-color: #D2E3FC;\n",
              "      --hover-bg-color: #434B5C;\n",
              "      --hover-fill-color: #FFFFFF;\n",
              "      --disabled-bg-color: #3B4455;\n",
              "      --disabled-fill-color: #666;\n",
              "  }\n",
              "\n",
              "  .colab-df-quickchart {\n",
              "    background-color: var(--bg-color);\n",
              "    border: none;\n",
              "    border-radius: 50%;\n",
              "    cursor: pointer;\n",
              "    display: none;\n",
              "    fill: var(--fill-color);\n",
              "    height: 32px;\n",
              "    padding: 0;\n",
              "    width: 32px;\n",
              "  }\n",
              "\n",
              "  .colab-df-quickchart:hover {\n",
              "    background-color: var(--hover-bg-color);\n",
              "    box-shadow: 0 1px 2px rgba(60, 64, 67, 0.3), 0 1px 3px 1px rgba(60, 64, 67, 0.15);\n",
              "    fill: var(--button-hover-fill-color);\n",
              "  }\n",
              "\n",
              "  .colab-df-quickchart-complete:disabled,\n",
              "  .colab-df-quickchart-complete:disabled:hover {\n",
              "    background-color: var(--disabled-bg-color);\n",
              "    fill: var(--disabled-fill-color);\n",
              "    box-shadow: none;\n",
              "  }\n",
              "\n",
              "  .colab-df-spinner {\n",
              "    border: 2px solid var(--fill-color);\n",
              "    border-color: transparent;\n",
              "    border-bottom-color: var(--fill-color);\n",
              "    animation:\n",
              "      spin 1s steps(1) infinite;\n",
              "  }\n",
              "\n",
              "  @keyframes spin {\n",
              "    0% {\n",
              "      border-color: transparent;\n",
              "      border-bottom-color: var(--fill-color);\n",
              "      border-left-color: var(--fill-color);\n",
              "    }\n",
              "    20% {\n",
              "      border-color: transparent;\n",
              "      border-left-color: var(--fill-color);\n",
              "      border-top-color: var(--fill-color);\n",
              "    }\n",
              "    30% {\n",
              "      border-color: transparent;\n",
              "      border-left-color: var(--fill-color);\n",
              "      border-top-color: var(--fill-color);\n",
              "      border-right-color: var(--fill-color);\n",
              "    }\n",
              "    40% {\n",
              "      border-color: transparent;\n",
              "      border-right-color: var(--fill-color);\n",
              "      border-top-color: var(--fill-color);\n",
              "    }\n",
              "    60% {\n",
              "      border-color: transparent;\n",
              "      border-right-color: var(--fill-color);\n",
              "    }\n",
              "    80% {\n",
              "      border-color: transparent;\n",
              "      border-right-color: var(--fill-color);\n",
              "      border-bottom-color: var(--fill-color);\n",
              "    }\n",
              "    90% {\n",
              "      border-color: transparent;\n",
              "      border-bottom-color: var(--fill-color);\n",
              "    }\n",
              "  }\n",
              "</style>\n",
              "\n",
              "  <script>\n",
              "    async function quickchart(key) {\n",
              "      const quickchartButtonEl =\n",
              "        document.querySelector('#' + key + ' button');\n",
              "      quickchartButtonEl.disabled = true;  // To prevent multiple clicks.\n",
              "      quickchartButtonEl.classList.add('colab-df-spinner');\n",
              "      try {\n",
              "        const charts = await google.colab.kernel.invokeFunction(\n",
              "            'suggestCharts', [key], {});\n",
              "      } catch (error) {\n",
              "        console.error('Error during call to suggestCharts:', error);\n",
              "      }\n",
              "      quickchartButtonEl.classList.remove('colab-df-spinner');\n",
              "      quickchartButtonEl.classList.add('colab-df-quickchart-complete');\n",
              "    }\n",
              "    (() => {\n",
              "      let quickchartButtonEl =\n",
              "        document.querySelector('#df-5f92781f-7fea-4e65-9465-b45a4c34eb65 button');\n",
              "      quickchartButtonEl.style.display =\n",
              "        google.colab.kernel.accessAllowed ? 'block' : 'none';\n",
              "    })();\n",
              "  </script>\n",
              "</div>\n",
              "\n",
              "    </div>\n",
              "  </div>\n"
            ],
            "application/vnd.google.colaboratory.intrinsic+json": {
              "type": "dataframe",
              "variable_name": "er",
              "summary": "{\n  \"name\": \"er\",\n  \"rows\": 2638,\n  \"fields\": [\n    {\n      \"column\": \"status\",\n      \"properties\": {\n        \"dtype\": \"category\",\n        \"num_unique_values\": 2,\n        \"samples\": [\n          \"Verified Review\",\n          \"Trip Verified\"\n        ],\n        \"semantic_type\": \"\",\n        \"description\": \"\"\n      }\n    },\n    {\n      \"column\": \"travel_type\",\n      \"properties\": {\n        \"dtype\": \"category\",\n        \"num_unique_values\": 4,\n        \"samples\": [\n          \"Couple Leisure\",\n          \"Business\"\n        ],\n        \"semantic_type\": \"\",\n        \"description\": \"\"\n      }\n    },\n    {\n      \"column\": \"travel_class\",\n      \"properties\": {\n        \"dtype\": \"category\",\n        \"num_unique_values\": 4,\n        \"samples\": [\n          \"Economy Class\",\n          \"First Class\"\n        ],\n        \"semantic_type\": \"\",\n        \"description\": \"\"\n      }\n    },\n    {\n      \"column\": \"route\",\n      \"properties\": {\n        \"dtype\": \"string\",\n        \"num_unique_values\": 1464,\n        \"samples\": [\n          \"Newcastle to Heathrow\",\n          \"Heathrow to Tenerife South\"\n        ],\n        \"semantic_type\": \"\",\n        \"description\": \"\"\n      }\n    },\n    {\n      \"column\": \"date\",\n      \"properties\": {\n        \"dtype\": \"date\",\n        \"min\": \"2014-07-01 00:00:00\",\n        \"max\": \"2022-11-01 00:00:00\",\n        \"num_unique_values\": 100,\n        \"samples\": [\n          \"2015-12-01 00:00:00\",\n          \"2018-02-01 00:00:00\"\n        ],\n        \"semantic_type\": \"\",\n        \"description\": \"\"\n      }\n    },\n    {\n      \"column\": \"seating_comfort\",\n      \"properties\": {\n        \"dtype\": \"number\",\n        \"std\": 1.4260610557946383,\n        \"min\": 0.0,\n        \"max\": 5.0,\n        \"num_unique_values\": 6,\n        \"samples\": [\n          3.0,\n          4.0\n        ],\n        \"semantic_type\": \"\",\n        \"description\": \"\"\n      }\n    },\n    {\n      \"column\": \"staff_service\",\n      \"properties\": {\n        \"dtype\": \"number\",\n        \"std\": 1.582330575519607,\n        \"min\": 0.0,\n        \"max\": 5.0,\n        \"num_unique_values\": 6,\n        \"samples\": [\n          4.0,\n          3.0\n        ],\n        \"semantic_type\": \"\",\n        \"description\": \"\"\n      }\n    },\n    {\n      \"column\": \"food_quality\",\n      \"properties\": {\n        \"dtype\": \"number\",\n        \"std\": 1.5948983888709771,\n        \"min\": 0.0,\n        \"max\": 5.0,\n        \"num_unique_values\": 6,\n        \"samples\": [\n          4.0,\n          3.0\n        ],\n        \"semantic_type\": \"\",\n        \"description\": \"\"\n      }\n    },\n    {\n      \"column\": \"entertainment\",\n      \"properties\": {\n        \"dtype\": \"number\",\n        \"std\": 1.6883295126309725,\n        \"min\": 0.0,\n        \"max\": 5.0,\n        \"num_unique_values\": 6,\n        \"samples\": [\n          0.0,\n          4.0\n        ],\n        \"semantic_type\": \"\",\n        \"description\": \"\"\n      }\n    },\n    {\n      \"column\": \"wifi\",\n      \"properties\": {\n        \"dtype\": \"number\",\n        \"std\": 0.9646493311032116,\n        \"min\": 0.0,\n        \"max\": 5.0,\n        \"num_unique_values\": 6,\n        \"samples\": [\n          0.0,\n          1.0\n        ],\n        \"semantic_type\": \"\",\n        \"description\": \"\"\n      }\n    },\n    {\n      \"column\": \"ground_service\",\n      \"properties\": {\n        \"dtype\": \"number\",\n        \"std\": 1.486269104896045,\n        \"min\": 0.0,\n        \"max\": 5.0,\n        \"num_unique_values\": 6,\n        \"samples\": [\n          3.0,\n          4.0\n        ],\n        \"semantic_type\": \"\",\n        \"description\": \"\"\n      }\n    },\n    {\n      \"column\": \"value_for_money\",\n      \"properties\": {\n        \"dtype\": \"number\",\n        \"std\": 1,\n        \"min\": 1,\n        \"max\": 5,\n        \"num_unique_values\": 5,\n        \"samples\": [\n          4,\n          5\n        ],\n        \"semantic_type\": \"\",\n        \"description\": \"\"\n      }\n    },\n    {\n      \"column\": \"recommended\",\n      \"properties\": {\n        \"dtype\": \"category\",\n        \"num_unique_values\": 2,\n        \"samples\": [\n          \"no\",\n          \"yes\"\n        ],\n        \"semantic_type\": \"\",\n        \"description\": \"\"\n      }\n    },\n    {\n      \"column\": \"overall_rating\",\n      \"properties\": {\n        \"dtype\": \"number\",\n        \"std\": 3.117709290224218,\n        \"min\": 1.0,\n        \"max\": 10.0,\n        \"num_unique_values\": 10,\n        \"samples\": [\n          8.0,\n          1.0\n        ],\n        \"semantic_type\": \"\",\n        \"description\": \"\"\n      }\n    },\n    {\n      \"column\": \"status_num\",\n      \"properties\": {\n        \"dtype\": \"number\",\n        \"std\": 0,\n        \"min\": 1,\n        \"max\": 2,\n        \"num_unique_values\": 2,\n        \"samples\": [\n          1,\n          2\n        ],\n        \"semantic_type\": \"\",\n        \"description\": \"\"\n      }\n    },\n    {\n      \"column\": \"booking_complete\",\n      \"properties\": {\n        \"dtype\": \"number\",\n        \"std\": 0,\n        \"min\": 0,\n        \"max\": 1,\n        \"num_unique_values\": 2,\n        \"samples\": [\n          0,\n          1\n        ],\n        \"semantic_type\": \"\",\n        \"description\": \"\"\n      }\n    },\n    {\n      \"column\": \"recommended_num\",\n      \"properties\": {\n        \"dtype\": \"number\",\n        \"std\": 0,\n        \"min\": 0,\n        \"max\": 1,\n        \"num_unique_values\": 2,\n        \"samples\": [\n          0,\n          1\n        ],\n        \"semantic_type\": \"\",\n        \"description\": \"\"\n      }\n    }\n  ]\n}"
            }
          },
          "metadata": {},
          "execution_count": 46
        }
      ]
    },
    {
      "cell_type": "markdown",
      "source": [
        "## Jumlah Pemesan Tiket\n",
        "Menunjukkan seberapa banyak tiket yang berhasil terjual melalui website.\n"
      ],
      "metadata": {
        "id": "8zt1oyODILSC"
      }
    },
    {
      "cell_type": "code",
      "source": [
        "#Melihat data\n",
        "er.head(1)"
      ],
      "metadata": {
        "id": "hhbgP9_cJxsD",
        "colab": {
          "base_uri": "https://localhost:8080/",
          "height": 135
        },
        "outputId": "9025fe26-57f4-4aa5-9677-058d22e4c951"
      },
      "execution_count": null,
      "outputs": [
        {
          "output_type": "execute_result",
          "data": {
            "text/plain": [
              "          status   travel_type    travel_class             route       date  \\\n",
              "0  Trip Verified  Solo Leisure  Business Class  London to Lisbon 2022-11-01   \n",
              "\n",
              "   seating_comfort  staff_service  food_quality  entertainment  wifi  \\\n",
              "0              3.0            4.0           4.0            0.0   0.0   \n",
              "\n",
              "   ground_service  value_for_money recommended  overall_rating  status_num  \\\n",
              "0             3.0                3         yes             7.0           2   \n",
              "\n",
              "   booking_complete  recommended_num  \n",
              "0                 1                1  "
            ],
            "text/html": [
              "\n",
              "  <div id=\"df-6d9e3b1a-698e-4ece-bd02-a5931428ea55\" class=\"colab-df-container\">\n",
              "    <div>\n",
              "<style scoped>\n",
              "    .dataframe tbody tr th:only-of-type {\n",
              "        vertical-align: middle;\n",
              "    }\n",
              "\n",
              "    .dataframe tbody tr th {\n",
              "        vertical-align: top;\n",
              "    }\n",
              "\n",
              "    .dataframe thead th {\n",
              "        text-align: right;\n",
              "    }\n",
              "</style>\n",
              "<table border=\"1\" class=\"dataframe\">\n",
              "  <thead>\n",
              "    <tr style=\"text-align: right;\">\n",
              "      <th></th>\n",
              "      <th>status</th>\n",
              "      <th>travel_type</th>\n",
              "      <th>travel_class</th>\n",
              "      <th>route</th>\n",
              "      <th>date</th>\n",
              "      <th>seating_comfort</th>\n",
              "      <th>staff_service</th>\n",
              "      <th>food_quality</th>\n",
              "      <th>entertainment</th>\n",
              "      <th>wifi</th>\n",
              "      <th>ground_service</th>\n",
              "      <th>value_for_money</th>\n",
              "      <th>recommended</th>\n",
              "      <th>overall_rating</th>\n",
              "      <th>status_num</th>\n",
              "      <th>booking_complete</th>\n",
              "      <th>recommended_num</th>\n",
              "    </tr>\n",
              "  </thead>\n",
              "  <tbody>\n",
              "    <tr>\n",
              "      <th>0</th>\n",
              "      <td>Trip Verified</td>\n",
              "      <td>Solo Leisure</td>\n",
              "      <td>Business Class</td>\n",
              "      <td>London to Lisbon</td>\n",
              "      <td>2022-11-01</td>\n",
              "      <td>3.0</td>\n",
              "      <td>4.0</td>\n",
              "      <td>4.0</td>\n",
              "      <td>0.0</td>\n",
              "      <td>0.0</td>\n",
              "      <td>3.0</td>\n",
              "      <td>3</td>\n",
              "      <td>yes</td>\n",
              "      <td>7.0</td>\n",
              "      <td>2</td>\n",
              "      <td>1</td>\n",
              "      <td>1</td>\n",
              "    </tr>\n",
              "  </tbody>\n",
              "</table>\n",
              "</div>\n",
              "    <div class=\"colab-df-buttons\">\n",
              "\n",
              "  <div class=\"colab-df-container\">\n",
              "    <button class=\"colab-df-convert\" onclick=\"convertToInteractive('df-6d9e3b1a-698e-4ece-bd02-a5931428ea55')\"\n",
              "            title=\"Convert this dataframe to an interactive table.\"\n",
              "            style=\"display:none;\">\n",
              "\n",
              "  <svg xmlns=\"http://www.w3.org/2000/svg\" height=\"24px\" viewBox=\"0 -960 960 960\">\n",
              "    <path d=\"M120-120v-720h720v720H120Zm60-500h600v-160H180v160Zm220 220h160v-160H400v160Zm0 220h160v-160H400v160ZM180-400h160v-160H180v160Zm440 0h160v-160H620v160ZM180-180h160v-160H180v160Zm440 0h160v-160H620v160Z\"/>\n",
              "  </svg>\n",
              "    </button>\n",
              "\n",
              "  <style>\n",
              "    .colab-df-container {\n",
              "      display:flex;\n",
              "      gap: 12px;\n",
              "    }\n",
              "\n",
              "    .colab-df-convert {\n",
              "      background-color: #E8F0FE;\n",
              "      border: none;\n",
              "      border-radius: 50%;\n",
              "      cursor: pointer;\n",
              "      display: none;\n",
              "      fill: #1967D2;\n",
              "      height: 32px;\n",
              "      padding: 0 0 0 0;\n",
              "      width: 32px;\n",
              "    }\n",
              "\n",
              "    .colab-df-convert:hover {\n",
              "      background-color: #E2EBFA;\n",
              "      box-shadow: 0px 1px 2px rgba(60, 64, 67, 0.3), 0px 1px 3px 1px rgba(60, 64, 67, 0.15);\n",
              "      fill: #174EA6;\n",
              "    }\n",
              "\n",
              "    .colab-df-buttons div {\n",
              "      margin-bottom: 4px;\n",
              "    }\n",
              "\n",
              "    [theme=dark] .colab-df-convert {\n",
              "      background-color: #3B4455;\n",
              "      fill: #D2E3FC;\n",
              "    }\n",
              "\n",
              "    [theme=dark] .colab-df-convert:hover {\n",
              "      background-color: #434B5C;\n",
              "      box-shadow: 0px 1px 3px 1px rgba(0, 0, 0, 0.15);\n",
              "      filter: drop-shadow(0px 1px 2px rgba(0, 0, 0, 0.3));\n",
              "      fill: #FFFFFF;\n",
              "    }\n",
              "  </style>\n",
              "\n",
              "    <script>\n",
              "      const buttonEl =\n",
              "        document.querySelector('#df-6d9e3b1a-698e-4ece-bd02-a5931428ea55 button.colab-df-convert');\n",
              "      buttonEl.style.display =\n",
              "        google.colab.kernel.accessAllowed ? 'block' : 'none';\n",
              "\n",
              "      async function convertToInteractive(key) {\n",
              "        const element = document.querySelector('#df-6d9e3b1a-698e-4ece-bd02-a5931428ea55');\n",
              "        const dataTable =\n",
              "          await google.colab.kernel.invokeFunction('convertToInteractive',\n",
              "                                                    [key], {});\n",
              "        if (!dataTable) return;\n",
              "\n",
              "        const docLinkHtml = 'Like what you see? Visit the ' +\n",
              "          '<a target=\"_blank\" href=https://colab.research.google.com/notebooks/data_table.ipynb>data table notebook</a>'\n",
              "          + ' to learn more about interactive tables.';\n",
              "        element.innerHTML = '';\n",
              "        dataTable['output_type'] = 'display_data';\n",
              "        await google.colab.output.renderOutput(dataTable, element);\n",
              "        const docLink = document.createElement('div');\n",
              "        docLink.innerHTML = docLinkHtml;\n",
              "        element.appendChild(docLink);\n",
              "      }\n",
              "    </script>\n",
              "  </div>\n",
              "\n",
              "\n",
              "    </div>\n",
              "  </div>\n"
            ],
            "application/vnd.google.colaboratory.intrinsic+json": {
              "type": "dataframe",
              "variable_name": "er",
              "summary": "{\n  \"name\": \"er\",\n  \"rows\": 2638,\n  \"fields\": [\n    {\n      \"column\": \"status\",\n      \"properties\": {\n        \"dtype\": \"category\",\n        \"num_unique_values\": 2,\n        \"samples\": [\n          \"Verified Review\",\n          \"Trip Verified\"\n        ],\n        \"semantic_type\": \"\",\n        \"description\": \"\"\n      }\n    },\n    {\n      \"column\": \"travel_type\",\n      \"properties\": {\n        \"dtype\": \"category\",\n        \"num_unique_values\": 4,\n        \"samples\": [\n          \"Couple Leisure\",\n          \"Business\"\n        ],\n        \"semantic_type\": \"\",\n        \"description\": \"\"\n      }\n    },\n    {\n      \"column\": \"travel_class\",\n      \"properties\": {\n        \"dtype\": \"category\",\n        \"num_unique_values\": 4,\n        \"samples\": [\n          \"Economy Class\",\n          \"First Class\"\n        ],\n        \"semantic_type\": \"\",\n        \"description\": \"\"\n      }\n    },\n    {\n      \"column\": \"route\",\n      \"properties\": {\n        \"dtype\": \"string\",\n        \"num_unique_values\": 1464,\n        \"samples\": [\n          \"Newcastle to Heathrow\",\n          \"Heathrow to Tenerife South\"\n        ],\n        \"semantic_type\": \"\",\n        \"description\": \"\"\n      }\n    },\n    {\n      \"column\": \"date\",\n      \"properties\": {\n        \"dtype\": \"date\",\n        \"min\": \"2014-07-01 00:00:00\",\n        \"max\": \"2022-11-01 00:00:00\",\n        \"num_unique_values\": 100,\n        \"samples\": [\n          \"2015-12-01 00:00:00\",\n          \"2018-02-01 00:00:00\"\n        ],\n        \"semantic_type\": \"\",\n        \"description\": \"\"\n      }\n    },\n    {\n      \"column\": \"seating_comfort\",\n      \"properties\": {\n        \"dtype\": \"number\",\n        \"std\": 1.4260610557946383,\n        \"min\": 0.0,\n        \"max\": 5.0,\n        \"num_unique_values\": 6,\n        \"samples\": [\n          3.0,\n          4.0\n        ],\n        \"semantic_type\": \"\",\n        \"description\": \"\"\n      }\n    },\n    {\n      \"column\": \"staff_service\",\n      \"properties\": {\n        \"dtype\": \"number\",\n        \"std\": 1.582330575519607,\n        \"min\": 0.0,\n        \"max\": 5.0,\n        \"num_unique_values\": 6,\n        \"samples\": [\n          4.0,\n          3.0\n        ],\n        \"semantic_type\": \"\",\n        \"description\": \"\"\n      }\n    },\n    {\n      \"column\": \"food_quality\",\n      \"properties\": {\n        \"dtype\": \"number\",\n        \"std\": 1.5948983888709771,\n        \"min\": 0.0,\n        \"max\": 5.0,\n        \"num_unique_values\": 6,\n        \"samples\": [\n          4.0,\n          3.0\n        ],\n        \"semantic_type\": \"\",\n        \"description\": \"\"\n      }\n    },\n    {\n      \"column\": \"entertainment\",\n      \"properties\": {\n        \"dtype\": \"number\",\n        \"std\": 1.6883295126309725,\n        \"min\": 0.0,\n        \"max\": 5.0,\n        \"num_unique_values\": 6,\n        \"samples\": [\n          0.0,\n          4.0\n        ],\n        \"semantic_type\": \"\",\n        \"description\": \"\"\n      }\n    },\n    {\n      \"column\": \"wifi\",\n      \"properties\": {\n        \"dtype\": \"number\",\n        \"std\": 0.9646493311032116,\n        \"min\": 0.0,\n        \"max\": 5.0,\n        \"num_unique_values\": 6,\n        \"samples\": [\n          0.0,\n          1.0\n        ],\n        \"semantic_type\": \"\",\n        \"description\": \"\"\n      }\n    },\n    {\n      \"column\": \"ground_service\",\n      \"properties\": {\n        \"dtype\": \"number\",\n        \"std\": 1.486269104896045,\n        \"min\": 0.0,\n        \"max\": 5.0,\n        \"num_unique_values\": 6,\n        \"samples\": [\n          3.0,\n          4.0\n        ],\n        \"semantic_type\": \"\",\n        \"description\": \"\"\n      }\n    },\n    {\n      \"column\": \"value_for_money\",\n      \"properties\": {\n        \"dtype\": \"number\",\n        \"std\": 1,\n        \"min\": 1,\n        \"max\": 5,\n        \"num_unique_values\": 5,\n        \"samples\": [\n          4,\n          5\n        ],\n        \"semantic_type\": \"\",\n        \"description\": \"\"\n      }\n    },\n    {\n      \"column\": \"recommended\",\n      \"properties\": {\n        \"dtype\": \"category\",\n        \"num_unique_values\": 2,\n        \"samples\": [\n          \"no\",\n          \"yes\"\n        ],\n        \"semantic_type\": \"\",\n        \"description\": \"\"\n      }\n    },\n    {\n      \"column\": \"overall_rating\",\n      \"properties\": {\n        \"dtype\": \"number\",\n        \"std\": 3.117709290224218,\n        \"min\": 1.0,\n        \"max\": 10.0,\n        \"num_unique_values\": 10,\n        \"samples\": [\n          8.0,\n          1.0\n        ],\n        \"semantic_type\": \"\",\n        \"description\": \"\"\n      }\n    },\n    {\n      \"column\": \"status_num\",\n      \"properties\": {\n        \"dtype\": \"number\",\n        \"std\": 0,\n        \"min\": 1,\n        \"max\": 2,\n        \"num_unique_values\": 2,\n        \"samples\": [\n          1,\n          2\n        ],\n        \"semantic_type\": \"\",\n        \"description\": \"\"\n      }\n    },\n    {\n      \"column\": \"booking_complete\",\n      \"properties\": {\n        \"dtype\": \"number\",\n        \"std\": 0,\n        \"min\": 0,\n        \"max\": 1,\n        \"num_unique_values\": 2,\n        \"samples\": [\n          0,\n          1\n        ],\n        \"semantic_type\": \"\",\n        \"description\": \"\"\n      }\n    },\n    {\n      \"column\": \"recommended_num\",\n      \"properties\": {\n        \"dtype\": \"number\",\n        \"std\": 0,\n        \"min\": 0,\n        \"max\": 1,\n        \"num_unique_values\": 2,\n        \"samples\": [\n          0,\n          1\n        ],\n        \"semantic_type\": \"\",\n        \"description\": \"\"\n      }\n    }\n  ]\n}"
            }
          },
          "metadata": {},
          "execution_count": 47
        }
      ]
    },
    {
      "cell_type": "code",
      "source": [
        "#filter untuk kolom status dengan value yang 'Trip Verified'\n",
        "filtered_status = er[er['booking_complete']== 1]\n",
        "\n",
        "#melakukan grupby berdasarkan date\n",
        "tiket = filtered_status.groupby('date').size()\n",
        "\n",
        "#Visualisasi\n",
        "tiket.plot(style=\"-\", figsize=(10, 6), title=\"Jumlah pemesan tiket\", color='g')\n",
        "plt.ylabel('Jumlah tiket')\n",
        "plt.grid(True)\n",
        "plt.show()"
      ],
      "metadata": {
        "id": "iMeggCUeITOX",
        "colab": {
          "base_uri": "https://localhost:8080/",
          "height": 526
        },
        "outputId": "185711d1-2c76-43da-a5bf-cba7bb469b93"
      },
      "execution_count": null,
      "outputs": [
        {
          "output_type": "display_data",
          "data": {
            "text/plain": [
              "<Figure size 1000x600 with 1 Axes>"
            ],
            "image/png": "[encoded data removed]"
          },
          "metadata": {}
        }
      ]
    },
    {
      "cell_type": "markdown",
      "source": [
        "## Customer satisfaction\n",
        "Tingkat kepuasan pengguna terhadap fitur dan layanan yang disediakan oleh\n",
        "website.\n"
      ],
      "metadata": {
        "id": "e6wOTywjLTr9"
      }
    },
    {
      "cell_type": "code",
      "source": [
        "er.head(1)"
      ],
      "metadata": {
        "id": "TGQWhqIOM009",
        "colab": {
          "base_uri": "https://localhost:8080/",
          "height": 135
        },
        "outputId": "4e059daa-e43c-4b3a-8a47-ea73e4216ddd"
      },
      "execution_count": null,
      "outputs": [
        {
          "output_type": "execute_result",
          "data": {
            "text/plain": [
              "          status   travel_type    travel_class             route       date  \\\n",
              "0  Trip Verified  Solo Leisure  Business Class  London to Lisbon 2022-11-01   \n",
              "\n",
              "   seating_comfort  staff_service  food_quality  entertainment  wifi  \\\n",
              "0              3.0            4.0           4.0            0.0   0.0   \n",
              "\n",
              "   ground_service  value_for_money recommended  overall_rating  status_num  \\\n",
              "0             3.0                3         yes             7.0           2   \n",
              "\n",
              "   booking_complete  recommended_num  \n",
              "0                 1                1  "
            ],
            "text/html": [
              "\n",
              "  <div id=\"df-b4122515-23cb-42d1-8295-d48d116034dd\" class=\"colab-df-container\">\n",
              "    <div>\n",
              "<style scoped>\n",
              "    .dataframe tbody tr th:only-of-type {\n",
              "        vertical-align: middle;\n",
              "    }\n",
              "\n",
              "    .dataframe tbody tr th {\n",
              "        vertical-align: top;\n",
              "    }\n",
              "\n",
              "    .dataframe thead th {\n",
              "        text-align: right;\n",
              "    }\n",
              "</style>\n",
              "<table border=\"1\" class=\"dataframe\">\n",
              "  <thead>\n",
              "    <tr style=\"text-align: right;\">\n",
              "      <th></th>\n",
              "      <th>status</th>\n",
              "      <th>travel_type</th>\n",
              "      <th>travel_class</th>\n",
              "      <th>route</th>\n",
              "      <th>date</th>\n",
              "      <th>seating_comfort</th>\n",
              "      <th>staff_service</th>\n",
              "      <th>food_quality</th>\n",
              "      <th>entertainment</th>\n",
              "      <th>wifi</th>\n",
              "      <th>ground_service</th>\n",
              "      <th>value_for_money</th>\n",
              "      <th>recommended</th>\n",
              "      <th>overall_rating</th>\n",
              "      <th>status_num</th>\n",
              "      <th>booking_complete</th>\n",
              "      <th>recommended_num</th>\n",
              "    </tr>\n",
              "  </thead>\n",
              "  <tbody>\n",
              "    <tr>\n",
              "      <th>0</th>\n",
              "      <td>Trip Verified</td>\n",
              "      <td>Solo Leisure</td>\n",
              "      <td>Business Class</td>\n",
              "      <td>London to Lisbon</td>\n",
              "      <td>2022-11-01</td>\n",
              "      <td>3.0</td>\n",
              "      <td>4.0</td>\n",
              "      <td>4.0</td>\n",
              "      <td>0.0</td>\n",
              "      <td>0.0</td>\n",
              "      <td>3.0</td>\n",
              "      <td>3</td>\n",
              "      <td>yes</td>\n",
              "      <td>7.0</td>\n",
              "      <td>2</td>\n",
              "      <td>1</td>\n",
              "      <td>1</td>\n",
              "    </tr>\n",
              "  </tbody>\n",
              "</table>\n",
              "</div>\n",
              "    <div class=\"colab-df-buttons\">\n",
              "\n",
              "  <div class=\"colab-df-container\">\n",
              "    <button class=\"colab-df-convert\" onclick=\"convertToInteractive('df-b4122515-23cb-42d1-8295-d48d116034dd')\"\n",
              "            title=\"Convert this dataframe to an interactive table.\"\n",
              "            style=\"display:none;\">\n",
              "\n",
              "  <svg xmlns=\"http://www.w3.org/2000/svg\" height=\"24px\" viewBox=\"0 -960 960 960\">\n",
              "    <path d=\"M120-120v-720h720v720H120Zm60-500h600v-160H180v160Zm220 220h160v-160H400v160Zm0 220h160v-160H400v160ZM180-400h160v-160H180v160Zm440 0h160v-160H620v160ZM180-180h160v-160H180v160Zm440 0h160v-160H620v160Z\"/>\n",
              "  </svg>\n",
              "    </button>\n",
              "\n",
              "  <style>\n",
              "    .colab-df-container {\n",
              "      display:flex;\n",
              "      gap: 12px;\n",
              "    }\n",
              "\n",
              "    .colab-df-convert {\n",
              "      background-color: #E8F0FE;\n",
              "      border: none;\n",
              "      border-radius: 50%;\n",
              "      cursor: pointer;\n",
              "      display: none;\n",
              "      fill: #1967D2;\n",
              "      height: 32px;\n",
              "      padding: 0 0 0 0;\n",
              "      width: 32px;\n",
              "    }\n",
              "\n",
              "    .colab-df-convert:hover {\n",
              "      background-color: #E2EBFA;\n",
              "      box-shadow: 0px 1px 2px rgba(60, 64, 67, 0.3), 0px 1px 3px 1px rgba(60, 64, 67, 0.15);\n",
              "      fill: #174EA6;\n",
              "    }\n",
              "\n",
              "    .colab-df-buttons div {\n",
              "      margin-bottom: 4px;\n",
              "    }\n",
              "\n",
              "    [theme=dark] .colab-df-convert {\n",
              "      background-color: #3B4455;\n",
              "      fill: #D2E3FC;\n",
              "    }\n",
              "\n",
              "    [theme=dark] .colab-df-convert:hover {\n",
              "      background-color: #434B5C;\n",
              "      box-shadow: 0px 1px 3px 1px rgba(0, 0, 0, 0.15);\n",
              "      filter: drop-shadow(0px 1px 2px rgba(0, 0, 0, 0.3));\n",
              "      fill: #FFFFFF;\n",
              "    }\n",
              "  </style>\n",
              "\n",
              "    <script>\n",
              "      const buttonEl =\n",
              "        document.querySelector('#df-b4122515-23cb-42d1-8295-d48d116034dd button.colab-df-convert');\n",
              "      buttonEl.style.display =\n",
              "        google.colab.kernel.accessAllowed ? 'block' : 'none';\n",
              "\n",
              "      async function convertToInteractive(key) {\n",
              "        const element = document.querySelector('#df-b4122515-23cb-42d1-8295-d48d116034dd');\n",
              "        const dataTable =\n",
              "          await google.colab.kernel.invokeFunction('convertToInteractive',\n",
              "                                                    [key], {});\n",
              "        if (!dataTable) return;\n",
              "\n",
              "        const docLinkHtml = 'Like what you see? Visit the ' +\n",
              "          '<a target=\"_blank\" href=https://colab.research.google.com/notebooks/data_table.ipynb>data table notebook</a>'\n",
              "          + ' to learn more about interactive tables.';\n",
              "        element.innerHTML = '';\n",
              "        dataTable['output_type'] = 'display_data';\n",
              "        await google.colab.output.renderOutput(dataTable, element);\n",
              "        const docLink = document.createElement('div');\n",
              "        docLink.innerHTML = docLinkHtml;\n",
              "        element.appendChild(docLink);\n",
              "      }\n",
              "    </script>\n",
              "  </div>\n",
              "\n",
              "\n",
              "    </div>\n",
              "  </div>\n"
            ],
            "application/vnd.google.colaboratory.intrinsic+json": {
              "type": "dataframe",
              "variable_name": "er",
              "summary": "{\n  \"name\": \"er\",\n  \"rows\": 2638,\n  \"fields\": [\n    {\n      \"column\": \"status\",\n      \"properties\": {\n        \"dtype\": \"category\",\n        \"num_unique_values\": 2,\n        \"samples\": [\n          \"Verified Review\",\n          \"Trip Verified\"\n        ],\n        \"semantic_type\": \"\",\n        \"description\": \"\"\n      }\n    },\n    {\n      \"column\": \"travel_type\",\n      \"properties\": {\n        \"dtype\": \"category\",\n        \"num_unique_values\": 4,\n        \"samples\": [\n          \"Couple Leisure\",\n          \"Business\"\n        ],\n        \"semantic_type\": \"\",\n        \"description\": \"\"\n      }\n    },\n    {\n      \"column\": \"travel_class\",\n      \"properties\": {\n        \"dtype\": \"category\",\n        \"num_unique_values\": 4,\n        \"samples\": [\n          \"Economy Class\",\n          \"First Class\"\n        ],\n        \"semantic_type\": \"\",\n        \"description\": \"\"\n      }\n    },\n    {\n      \"column\": \"route\",\n      \"properties\": {\n        \"dtype\": \"string\",\n        \"num_unique_values\": 1464,\n        \"samples\": [\n          \"Newcastle to Heathrow\",\n          \"Heathrow to Tenerife South\"\n        ],\n        \"semantic_type\": \"\",\n        \"description\": \"\"\n      }\n    },\n    {\n      \"column\": \"date\",\n      \"properties\": {\n        \"dtype\": \"date\",\n        \"min\": \"2014-07-01 00:00:00\",\n        \"max\": \"2022-11-01 00:00:00\",\n        \"num_unique_values\": 100,\n        \"samples\": [\n          \"2015-12-01 00:00:00\",\n          \"2018-02-01 00:00:00\"\n        ],\n        \"semantic_type\": \"\",\n        \"description\": \"\"\n      }\n    },\n    {\n      \"column\": \"seating_comfort\",\n      \"properties\": {\n        \"dtype\": \"number\",\n        \"std\": 1.4260610557946383,\n        \"min\": 0.0,\n        \"max\": 5.0,\n        \"num_unique_values\": 6,\n        \"samples\": [\n          3.0,\n          4.0\n        ],\n        \"semantic_type\": \"\",\n        \"description\": \"\"\n      }\n    },\n    {\n      \"column\": \"staff_service\",\n      \"properties\": {\n        \"dtype\": \"number\",\n        \"std\": 1.582330575519607,\n        \"min\": 0.0,\n        \"max\": 5.0,\n        \"num_unique_values\": 6,\n        \"samples\": [\n          4.0,\n          3.0\n        ],\n        \"semantic_type\": \"\",\n        \"description\": \"\"\n      }\n    },\n    {\n      \"column\": \"food_quality\",\n      \"properties\": {\n        \"dtype\": \"number\",\n        \"std\": 1.5948983888709771,\n        \"min\": 0.0,\n        \"max\": 5.0,\n        \"num_unique_values\": 6,\n        \"samples\": [\n          4.0,\n          3.0\n        ],\n        \"semantic_type\": \"\",\n        \"description\": \"\"\n      }\n    },\n    {\n      \"column\": \"entertainment\",\n      \"properties\": {\n        \"dtype\": \"number\",\n        \"std\": 1.6883295126309725,\n        \"min\": 0.0,\n        \"max\": 5.0,\n        \"num_unique_values\": 6,\n        \"samples\": [\n          0.0,\n          4.0\n        ],\n        \"semantic_type\": \"\",\n        \"description\": \"\"\n      }\n    },\n    {\n      \"column\": \"wifi\",\n      \"properties\": {\n        \"dtype\": \"number\",\n        \"std\": 0.9646493311032116,\n        \"min\": 0.0,\n        \"max\": 5.0,\n        \"num_unique_values\": 6,\n        \"samples\": [\n          0.0,\n          1.0\n        ],\n        \"semantic_type\": \"\",\n        \"description\": \"\"\n      }\n    },\n    {\n      \"column\": \"ground_service\",\n      \"properties\": {\n        \"dtype\": \"number\",\n        \"std\": 1.486269104896045,\n        \"min\": 0.0,\n        \"max\": 5.0,\n        \"num_unique_values\": 6,\n        \"samples\": [\n          3.0,\n          4.0\n        ],\n        \"semantic_type\": \"\",\n        \"description\": \"\"\n      }\n    },\n    {\n      \"column\": \"value_for_money\",\n      \"properties\": {\n        \"dtype\": \"number\",\n        \"std\": 1,\n        \"min\": 1,\n        \"max\": 5,\n        \"num_unique_values\": 5,\n        \"samples\": [\n          4,\n          5\n        ],\n        \"semantic_type\": \"\",\n        \"description\": \"\"\n      }\n    },\n    {\n      \"column\": \"recommended\",\n      \"properties\": {\n        \"dtype\": \"category\",\n        \"num_unique_values\": 2,\n        \"samples\": [\n          \"no\",\n          \"yes\"\n        ],\n        \"semantic_type\": \"\",\n        \"description\": \"\"\n      }\n    },\n    {\n      \"column\": \"overall_rating\",\n      \"properties\": {\n        \"dtype\": \"number\",\n        \"std\": 3.117709290224218,\n        \"min\": 1.0,\n        \"max\": 10.0,\n        \"num_unique_values\": 10,\n        \"samples\": [\n          8.0,\n          1.0\n        ],\n        \"semantic_type\": \"\",\n        \"description\": \"\"\n      }\n    },\n    {\n      \"column\": \"status_num\",\n      \"properties\": {\n        \"dtype\": \"number\",\n        \"std\": 0,\n        \"min\": 1,\n        \"max\": 2,\n        \"num_unique_values\": 2,\n        \"samples\": [\n          1,\n          2\n        ],\n        \"semantic_type\": \"\",\n        \"description\": \"\"\n      }\n    },\n    {\n      \"column\": \"booking_complete\",\n      \"properties\": {\n        \"dtype\": \"number\",\n        \"std\": 0,\n        \"min\": 0,\n        \"max\": 1,\n        \"num_unique_values\": 2,\n        \"samples\": [\n          0,\n          1\n        ],\n        \"semantic_type\": \"\",\n        \"description\": \"\"\n      }\n    },\n    {\n      \"column\": \"recommended_num\",\n      \"properties\": {\n        \"dtype\": \"number\",\n        \"std\": 0,\n        \"min\": 0,\n        \"max\": 1,\n        \"num_unique_values\": 2,\n        \"samples\": [\n          0,\n          1\n        ],\n        \"semantic_type\": \"\",\n        \"description\": \"\"\n      }\n    }\n  ]\n}"
            }
          },
          "metadata": {},
          "execution_count": 49
        }
      ]
    },
    {
      "cell_type": "code",
      "source": [
        "#menghitung value overall rating untuk customer satisfication\n",
        "cs = er['overall_rating'].value_counts().sort_index()\n",
        "\n",
        "plt.figure(figsize=(8, 6))\n",
        "cs.plot(kind='bar', color='skyblue')\n",
        "plt.title('Overal Rating Counts')\n",
        "plt.xlabel('Rating')\n",
        "plt.ylabel('Count')\n",
        "plt.xticks(rotation=0)\n",
        "plt.grid(axis='y', linestyle='--', alpha=0.7)\n",
        "plt.show()"
      ],
      "metadata": {
        "id": "ZLCor8oWLfdv",
        "colab": {
          "base_uri": "https://localhost:8080/",
          "height": 564
        },
        "outputId": "ef2e0c9a-ab0a-4cd3-e858-a0b12c64ca33"
      },
      "execution_count": null,
      "outputs": [
        {
          "output_type": "display_data",
          "data": {
            "text/plain": [
              "<Figure size 800x600 with 1 Axes>"
            ],
            "image/png": "[encoded data removed]"
          },
          "metadata": {}
        }
      ]
    },
    {
      "cell_type": "code",
      "source": [
        "#Membuat kolom baru dengan konversi jika overall rating diatas 4 maka satisfied\n",
        "er['satisfication'] = np.where(er['overall_rating'] >= 5.0, 'Satisfied', 'Disatisfied')\n",
        "\n",
        "satisfied = er['satisfication'].value_counts()\n",
        "\n",
        "satisfied.plot(kind='barh', color=['red','green'])\n",
        "plt.ylabel('')\n",
        "plt.show()"
      ],
      "metadata": {
        "id": "tQhu-c38mknJ",
        "colab": {
          "base_uri": "https://localhost:8080/",
          "height": 430
        },
        "outputId": "fcd7baca-3ce6-4eed-afa7-8a90bc512780"
      },
      "execution_count": null,
      "outputs": [
        {
          "output_type": "display_data",
          "data": {
            "text/plain": [
              "<Figure size 640x480 with 1 Axes>"
            ],
            "image/png": "[encoded data removed]"
          },
          "metadata": {}
        }
      ]
    },
    {
      "cell_type": "code",
      "source": [
        "# Membuat pie chart\n",
        "plt.figure(figsize=(8, 6))\n",
        "plt.pie(satisfied, labels=satisfied.index, autopct='%1.1f%%', colors=['lightcoral', 'lawngreen'], startangle=140)\n",
        "plt.title('Satisfaction Distribution')\n",
        "plt.axis('equal')  # Memastikan pie chart berbentuk lingkaran\n",
        "plt.show()"
      ],
      "metadata": {
        "id": "A_uo2jYnLWpK",
        "colab": {
          "base_uri": "https://localhost:8080/",
          "height": 521
        },
        "outputId": "4381473e-25b3-4daf-c154-c906025f6d6f"
      },
      "execution_count": null,
      "outputs": [
        {
          "output_type": "display_data",
          "data": {
            "text/plain": [
              "<Figure size 800x600 with 1 Axes>"
            ],
            "image/png": "[encoded data removed]"
          },
          "metadata": {}
        }
      ]
    },
    {
      "cell_type": "markdown",
      "source": [
        "## Conversion rate\n",
        "Rasio antara jumlah pengunjung website dan jumlah pengguna yang berhasil\n",
        "melakukan transaksi\n",
        "![image.png](data:image/png;base64,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)"
      ],
      "metadata": {
        "id": "1rZQJm19N3Z7"
      }
    },
    {
      "cell_type": "code",
      "source": [
        "#membuat formula conversion rate\n",
        "jumlah_konversi = er[er['booking_complete']== 1].groupby('date').size()\n",
        "total_pengunjung = er.groupby('date').size()"
      ],
      "metadata": {
        "id": "vj0hiiN_OEJV"
      },
      "execution_count": null,
      "outputs": []
    },
    {
      "cell_type": "code",
      "source": [
        "# Menggabungkan hasil perhitungan ke DataFrame baru\n",
        "conversion_df = pd.DataFrame({\n",
        "    'jumlah_konversi': jumlah_konversi,\n",
        "    'total_pengunjung': total_pengunjung\n",
        "})\n",
        "\n",
        "# Menghitung conversion rate\n",
        "conversion_df['conversion_rate'] = (conversion_df['jumlah_konversi'] / conversion_df['total_pengunjung']) * 100\n",
        "\n",
        "# Reset index agar 'date' menjadi kolom biasa\n",
        "conversion_df = conversion_df.reset_index()\n",
        "\n",
        "# Menggabungkan kembali ke DataFrame asli berdasarkan 'date'\n",
        "er = pd.merge(er, conversion_df[['date', 'conversion_rate']], on='date', how='left')"
      ],
      "metadata": {
        "id": "A_P6EavCiK5Z"
      },
      "execution_count": null,
      "outputs": []
    },
    {
      "cell_type": "code",
      "source": [
        "#urutkan data berdasarkan date\n",
        "er = er.sort_values(by='date')"
      ],
      "metadata": {
        "id": "zHx4dklxjqXE"
      },
      "execution_count": null,
      "outputs": []
    },
    {
      "cell_type": "code",
      "source": [
        "# Plotting line chart\n",
        "plt.figure(figsize=(10, 6))\n",
        "plt.plot(er['date'], er['conversion_rate'], linestyle='-', color='b', label='Conversion Rate')\n",
        "plt.title('Conversion Rate Over Time')\n",
        "plt.xlabel('Date')\n",
        "plt.ylabel('Conversion Rate (%)')\n",
        "plt.xticks(rotation=45)  # Rotasi label tanggal jika perlu\n",
        "plt.grid(True)\n",
        "\n",
        "# Menampilkan grafik\n",
        "plt.tight_layout()\n",
        "plt.show()"
      ],
      "metadata": {
        "id": "hrbuycAKPbmU",
        "colab": {
          "base_uri": "https://localhost:8080/",
          "height": 607
        },
        "outputId": "1550d1c7-1d07-414d-c069-fb9e88f8cd51"
      },
      "execution_count": null,
      "outputs": [
        {
          "output_type": "display_data",
          "data": {
            "text/plain": [
              "<Figure size 1000x600 with 1 Axes>"
            ],
            "image/png": "[encoded data removed]"
          },
          "metadata": {}
        }
      ]
    },
    {
      "cell_type": "code",
      "source": [
        "#mengisi missing value pada conversion rate dengan 0\n",
        "er['conversion_rate'] = er['conversion_rate'].fillna(0)"
      ],
      "metadata": {
        "id": "ZOWiRU-kRRnt"
      },
      "execution_count": null,
      "outputs": []
    },
    {
      "cell_type": "code",
      "source": [
        "# Plotting line chart\n",
        "plt.figure(figsize=(8, 6))\n",
        "plt.plot(er['date'], er['conversion_rate'], linestyle='-', color='b', label='Conversion Rate')\n",
        "plt.title('Conversion Rate Over Time')\n",
        "plt.xlabel('')\n",
        "plt.ylabel('Conversion Rate (%)')\n",
        "plt.xticks(rotation=45)  # Rotasi label tanggal jika perlu\n",
        "plt.grid(True)\n",
        "\n",
        "# Menampilkan grafik\n",
        "plt.tight_layout()\n",
        "plt.show()"
      ],
      "metadata": {
        "colab": {
          "base_uri": "https://localhost:8080/",
          "height": 607
        },
        "id": "sOn-txr3TqqS",
        "outputId": "de0bf05f-b84a-4722-da5e-20232d2aa7bb"
      },
      "execution_count": null,
      "outputs": [
        {
          "output_type": "display_data",
          "data": {
            "text/plain": [
              "<Figure size 800x600 with 1 Axes>"
            ],
            "image/png": "[encoded data removed]"
          },
          "metadata": {}
        }
      ]
    },
    {
      "cell_type": "code",
      "source": [
        "#total conversion rate 2014 - 2022\n",
        "a = er[er['booking_complete']== 1].groupby('date').size().sum()\n",
        "b = er.shape[0]\n",
        "conversion_rate_total = (a/b) * 100\n",
        "\n",
        "print(f'Total Conversion Rate: {conversion_rate_total:.2f}%')"
      ],
      "metadata": {
        "colab": {
          "base_uri": "https://localhost:8080/"
        },
        "id": "JfsdmsEUyaNR",
        "outputId": "7c97e969-fc7f-455a-e0d6-40e721b09fd0"
      },
      "execution_count": null,
      "outputs": [
        {
          "output_type": "stream",
          "name": "stdout",
          "text": [
            "Total Conversion Rate: 98.03%\n"
          ]
        }
      ]
    },
    {
      "cell_type": "markdown",
      "source": [
        "## Error Rate\n",
        "Tingkat keberhasilan pengguna dalam menyelesaikan proses pemesanan tiket tanpa terjadi\n",
        "kesalahan atau gangguan.\n",
        "![image.png](data:image/png;base64,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)"
      ],
      "metadata": {
        "id": "YRK7SpoKVOSK"
      }
    },
    {
      "cell_type": "code",
      "source": [
        "#membuat formula conversion rate\n",
        "jumlah_gagal = er[er['booking_complete']== 0].groupby('date').size()\n",
        "total_pemesanan = er.groupby('date').size()\n",
        "error_rate = (jumlah_gagal/total_pemesanan) * 100"
      ],
      "metadata": {
        "id": "KNKaqCeQEYaJ"
      },
      "execution_count": null,
      "outputs": []
    },
    {
      "cell_type": "code",
      "source": [
        "# Membuat DataFrame baru untuk error rate\n",
        "error_df = pd.DataFrame({\n",
        "    'date': error_rate.index,\n",
        "    'error_rate': error_rate.values\n",
        "})\n",
        "\n",
        "# Merge error rate ke DataFrame asli 'er'\n",
        "er = pd.merge(er, error_df, on='date', how='left')"
      ],
      "metadata": {
        "id": "gd_0B7GvkdnE"
      },
      "execution_count": null,
      "outputs": []
    },
    {
      "cell_type": "code",
      "source": [
        "#mengisi nan error rate dengan 0\n",
        "er['error_rate'] = er['error_rate'].fillna(0)"
      ],
      "metadata": {
        "id": "O7PBNI-cE_19"
      },
      "execution_count": null,
      "outputs": []
    },
    {
      "cell_type": "code",
      "source": [
        "# Plotting line chart\n",
        "plt.figure(figsize=(8, 6))\n",
        "plt.plot(er['date'], er['error_rate'], linestyle='-', color='r', label='error_rate')\n",
        "plt.title('Error Eate Over Time')\n",
        "plt.xlabel('')\n",
        "plt.ylabel('Error Rate (%)')\n",
        "plt.xticks(rotation=45)  # Rotasi label tanggal jika perlu\n",
        "plt.grid(True)\n",
        "\n",
        "# Menampilkan grafik\n",
        "plt.tight_layout()\n",
        "plt.show()"
      ],
      "metadata": {
        "colab": {
          "base_uri": "https://localhost:8080/",
          "height": 607
        },
        "id": "Vk33D7HgEpoe",
        "outputId": "eb655b1d-3445-4a6f-a6e5-503141509afb"
      },
      "execution_count": null,
      "outputs": [
        {
          "output_type": "display_data",
          "data": {
            "text/plain": [
              "<Figure size 800x600 with 1 Axes>"
            ],
            "image/png": "[encoded data removed]"
          },
          "metadata": {}
        }
      ]
    },
    {
      "cell_type": "code",
      "source": [
        "#mengambil value dari booking complete\n",
        "pie = er['booking_complete'].value_counts()\n",
        "\n",
        "# Definisikan label untuk menggantikan 0 dan 1\n",
        "labels = ['Success' if index == 1 else 'Fail' for index in pie.index]\n",
        "\n",
        "#visualisasi\n",
        "plt.figure(figsize=(8, 6))\n",
        "pie.plot(kind='pie', autopct='%1.1f%%', colors=['lightgreen','Lightcoral'], labels=labels),\n",
        "plt.title(\"Persentase Keberhasilan dan Kegagalan Pemesanan\")\n",
        "plt.ylabel('')\n",
        "plt.show()"
      ],
      "metadata": {
        "colab": {
          "base_uri": "https://localhost:8080/",
          "height": 521
        },
        "id": "nX-qmVoXj7KN",
        "outputId": "a39a1f6c-e3e2-4075-d394-a584ff02c41e"
      },
      "execution_count": null,
      "outputs": [
        {
          "output_type": "display_data",
          "data": {
            "text/plain": [
              "<Figure size 800x600 with 1 Axes>"
            ],
            "image/png": "[encoded data removed]"
          },
          "metadata": {}
        }
      ]
    },
    {
      "cell_type": "markdown",
      "source": [
        "## Download csv"
      ],
      "metadata": {
        "id": "fqsnWW9jxeim"
      }
    },
    {
      "cell_type": "code",
      "source": [
        "er.to_csv('British_airline_dataset_final.csv', index=False)"
      ],
      "metadata": {
        "id": "0tIwLKwlyLaG"
      },
      "execution_count": null,
      "outputs": []
    }
  ]
}